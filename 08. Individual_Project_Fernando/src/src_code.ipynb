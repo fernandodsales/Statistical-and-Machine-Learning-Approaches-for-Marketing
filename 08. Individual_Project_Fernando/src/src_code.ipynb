{
 "cells": [
  {
   "cell_type": "markdown",
   "metadata": {},
   "source": [
    "## Statistical and Machine Learning Approaches for Marketing\n",
    "### Individual Project\n",
    "Fernando Delgado"
   ]
  },
  {
   "cell_type": "markdown",
   "metadata": {},
   "source": [
    "## Initiation"
   ]
  },
  {
   "cell_type": "code",
   "execution_count": 4,
   "metadata": {},
   "outputs": [],
   "source": [
    "#Working Directory\n",
    "wd = \"C:/Users/fdelgado/OneDrive - IESEG/Documents/01. IESEG/13. Statistical and Machine Learning Approaches/Individual_Project_Fernando\""
   ]
  },
  {
   "cell_type": "code",
   "execution_count": 2,
   "metadata": {},
   "outputs": [],
   "source": [
    "#Data manipulation\n",
    "import pandas as pd \n",
    "import numpy as np\n",
    "from numpy import arange\n",
    "import random\n",
    "from sklearn.model_selection import train_test_split\n",
    "from sklearn.preprocessing import MinMaxScaler\n",
    "from sklearn.feature_selection import VarianceThreshold\n",
    "\n",
    "#Visualization\n",
    "import matplotlib.pyplot as plt\n",
    "import seaborn as sns\n",
    "\n",
    "#Machine Learning Models\n",
    "from sklearn.linear_model import LogisticRegression\n",
    "from sklearn.discriminant_analysis import LinearDiscriminantAnalysis\n",
    "from sklearn.tree import DecisionTreeClassifier\n",
    "from sklearn.ensemble import RandomForestClassifier\n",
    "from sklearn.neural_network import MLPClassifier\n",
    "\n",
    "#Experimental setup\n",
    "from sklearn.model_selection import RepeatedStratifiedKFold, cross_validate, RandomizedSearchCV\n",
    "from sklearn.feature_selection import SelectFromModel\n",
    "\n",
    "#Scores\n",
    "from sklearn import metrics\n",
    "from sklearn.metrics import accuracy_score, roc_auc_score\n",
    "from sklearn.datasets import make_classification\n",
    "from sklearn.model_selection import cross_val_score\n",
    "\n",
    "#Other \n",
    "import shutup; shutup.please()"
   ]
  },
  {
   "cell_type": "markdown",
   "metadata": {},
   "source": [
    "## 1. Data Summary"
   ]
  },
  {
   "cell_type": "markdown",
   "metadata": {},
   "source": [
    "#### 1.1 Read and print data"
   ]
  },
  {
   "cell_type": "code",
   "execution_count": 4,
   "metadata": {},
   "outputs": [],
   "source": [
    "#Load Data\n",
    "df = pd.read_csv(wd + '/data/raw/credit_default_train.csv')"
   ]
  },
  {
   "cell_type": "code",
   "execution_count": 5,
   "metadata": {},
   "outputs": [
    {
     "name": "stdout",
     "output_type": "stream",
     "text": [
      "float64    23\n",
      "int64       2\n",
      "dtype: int64\n"
     ]
    },
    {
     "data": {
      "text/html": [
       "<div>\n",
       "<style scoped>\n",
       "    .dataframe tbody tr th:only-of-type {\n",
       "        vertical-align: middle;\n",
       "    }\n",
       "\n",
       "    .dataframe tbody tr th {\n",
       "        vertical-align: top;\n",
       "    }\n",
       "\n",
       "    .dataframe thead th {\n",
       "        text-align: right;\n",
       "    }\n",
       "</style>\n",
       "<table border=\"1\" class=\"dataframe\">\n",
       "  <thead>\n",
       "    <tr style=\"text-align: right;\">\n",
       "      <th></th>\n",
       "      <th>cust_id</th>\n",
       "      <th>LIMIT_BAL</th>\n",
       "      <th>SEX</th>\n",
       "      <th>EDUCATION</th>\n",
       "      <th>MARRIAGE</th>\n",
       "      <th>AGE</th>\n",
       "      <th>PAY_0</th>\n",
       "      <th>PAY_2</th>\n",
       "      <th>PAY_3</th>\n",
       "      <th>PAY_4</th>\n",
       "      <th>...</th>\n",
       "      <th>BILL_AMT4</th>\n",
       "      <th>BILL_AMT5</th>\n",
       "      <th>BILL_AMT6</th>\n",
       "      <th>PAY_AMT1</th>\n",
       "      <th>PAY_AMT2</th>\n",
       "      <th>PAY_AMT3</th>\n",
       "      <th>PAY_AMT4</th>\n",
       "      <th>PAY_AMT5</th>\n",
       "      <th>PAY_AMT6</th>\n",
       "      <th>default.payment.next.month</th>\n",
       "    </tr>\n",
       "  </thead>\n",
       "  <tbody>\n",
       "    <tr>\n",
       "      <th>0</th>\n",
       "      <td>18895</td>\n",
       "      <td>70000.0</td>\n",
       "      <td>1.0</td>\n",
       "      <td>3.0</td>\n",
       "      <td>2.0</td>\n",
       "      <td>34.0</td>\n",
       "      <td>0.0</td>\n",
       "      <td>0.0</td>\n",
       "      <td>0.0</td>\n",
       "      <td>0.0</td>\n",
       "      <td>...</td>\n",
       "      <td>25559.0</td>\n",
       "      <td>26134.0</td>\n",
       "      <td>26715.0</td>\n",
       "      <td>1700.0</td>\n",
       "      <td>1500.0</td>\n",
       "      <td>2000.0</td>\n",
       "      <td>1000.0</td>\n",
       "      <td>1000.0</td>\n",
       "      <td>2000.0</td>\n",
       "      <td>0</td>\n",
       "    </tr>\n",
       "    <tr>\n",
       "      <th>1</th>\n",
       "      <td>25102</td>\n",
       "      <td>390000.0</td>\n",
       "      <td>2.0</td>\n",
       "      <td>2.0</td>\n",
       "      <td>2.0</td>\n",
       "      <td>26.0</td>\n",
       "      <td>2.0</td>\n",
       "      <td>2.0</td>\n",
       "      <td>2.0</td>\n",
       "      <td>0.0</td>\n",
       "      <td>...</td>\n",
       "      <td>140387.0</td>\n",
       "      <td>128112.0</td>\n",
       "      <td>115514.0</td>\n",
       "      <td>5000.0</td>\n",
       "      <td>3000.0</td>\n",
       "      <td>5000.0</td>\n",
       "      <td>4548.0</td>\n",
       "      <td>4100.0</td>\n",
       "      <td>3300.0</td>\n",
       "      <td>0</td>\n",
       "    </tr>\n",
       "    <tr>\n",
       "      <th>2</th>\n",
       "      <td>28867</td>\n",
       "      <td>60000.0</td>\n",
       "      <td>1.0</td>\n",
       "      <td>1.0</td>\n",
       "      <td>2.0</td>\n",
       "      <td>27.0</td>\n",
       "      <td>0.0</td>\n",
       "      <td>0.0</td>\n",
       "      <td>0.0</td>\n",
       "      <td>0.0</td>\n",
       "      <td>...</td>\n",
       "      <td>26038.0</td>\n",
       "      <td>28607.0</td>\n",
       "      <td>27997.0</td>\n",
       "      <td>1378.0</td>\n",
       "      <td>1406.0</td>\n",
       "      <td>3000.0</td>\n",
       "      <td>3000.0</td>\n",
       "      <td>0.0</td>\n",
       "      <td>923.0</td>\n",
       "      <td>1</td>\n",
       "    </tr>\n",
       "    <tr>\n",
       "      <th>3</th>\n",
       "      <td>1842</td>\n",
       "      <td>140000.0</td>\n",
       "      <td>2.0</td>\n",
       "      <td>2.0</td>\n",
       "      <td>1.0</td>\n",
       "      <td>55.0</td>\n",
       "      <td>0.0</td>\n",
       "      <td>0.0</td>\n",
       "      <td>0.0</td>\n",
       "      <td>0.0</td>\n",
       "      <td>...</td>\n",
       "      <td>72391.0</td>\n",
       "      <td>61298.0</td>\n",
       "      <td>62193.0</td>\n",
       "      <td>4200.0</td>\n",
       "      <td>2822.0</td>\n",
       "      <td>2336.0</td>\n",
       "      <td>2588.0</td>\n",
       "      <td>2250.0</td>\n",
       "      <td>2491.0</td>\n",
       "      <td>0</td>\n",
       "    </tr>\n",
       "    <tr>\n",
       "      <th>4</th>\n",
       "      <td>3371</td>\n",
       "      <td>50000.0</td>\n",
       "      <td>1.0</td>\n",
       "      <td>1.0</td>\n",
       "      <td>2.0</td>\n",
       "      <td>29.0</td>\n",
       "      <td>2.0</td>\n",
       "      <td>2.0</td>\n",
       "      <td>2.0</td>\n",
       "      <td>0.0</td>\n",
       "      <td>...</td>\n",
       "      <td>1047.0</td>\n",
       "      <td>0.0</td>\n",
       "      <td>0.0</td>\n",
       "      <td>3000.0</td>\n",
       "      <td>0.0</td>\n",
       "      <td>1000.0</td>\n",
       "      <td>0.0</td>\n",
       "      <td>0.0</td>\n",
       "      <td>0.0</td>\n",
       "      <td>1</td>\n",
       "    </tr>\n",
       "  </tbody>\n",
       "</table>\n",
       "<p>5 rows × 25 columns</p>\n",
       "</div>"
      ],
      "text/plain": [
       "   cust_id  LIMIT_BAL  SEX  EDUCATION  MARRIAGE   AGE  PAY_0  PAY_2  PAY_3  \\\n",
       "0    18895    70000.0  1.0        3.0       2.0  34.0    0.0    0.0    0.0   \n",
       "1    25102   390000.0  2.0        2.0       2.0  26.0    2.0    2.0    2.0   \n",
       "2    28867    60000.0  1.0        1.0       2.0  27.0    0.0    0.0    0.0   \n",
       "3     1842   140000.0  2.0        2.0       1.0  55.0    0.0    0.0    0.0   \n",
       "4     3371    50000.0  1.0        1.0       2.0  29.0    2.0    2.0    2.0   \n",
       "\n",
       "   PAY_4  ...  BILL_AMT4  BILL_AMT5  BILL_AMT6  PAY_AMT1  PAY_AMT2  PAY_AMT3  \\\n",
       "0    0.0  ...    25559.0    26134.0    26715.0    1700.0    1500.0    2000.0   \n",
       "1    0.0  ...   140387.0   128112.0   115514.0    5000.0    3000.0    5000.0   \n",
       "2    0.0  ...    26038.0    28607.0    27997.0    1378.0    1406.0    3000.0   \n",
       "3    0.0  ...    72391.0    61298.0    62193.0    4200.0    2822.0    2336.0   \n",
       "4    0.0  ...     1047.0        0.0        0.0    3000.0       0.0    1000.0   \n",
       "\n",
       "   PAY_AMT4  PAY_AMT5  PAY_AMT6  default.payment.next.month  \n",
       "0    1000.0    1000.0    2000.0                           0  \n",
       "1    4548.0    4100.0    3300.0                           0  \n",
       "2    3000.0       0.0     923.0                           1  \n",
       "3    2588.0    2250.0    2491.0                           0  \n",
       "4       0.0       0.0       0.0                           1  \n",
       "\n",
       "[5 rows x 25 columns]"
      ]
     },
     "execution_count": 5,
     "metadata": {},
     "output_type": "execute_result"
    }
   ],
   "source": [
    "#Check data types\n",
    "print(df.dtypes.value_counts())\n",
    "df.head()"
   ]
  },
  {
   "cell_type": "markdown",
   "metadata": {},
   "source": [
    "#### 1.2 Create a list of column names"
   ]
  },
  {
   "cell_type": "code",
   "execution_count": 6,
   "metadata": {},
   "outputs": [],
   "source": [
    "#Split Predictor and Target\n",
    "id_var = ['cust_id']\n",
    "target = ['default.payment.next.month']\n",
    "predictors = [v for v in df.columns if v not in id_var + target]"
   ]
  },
  {
   "cell_type": "markdown",
   "metadata": {},
   "source": [
    "#### 1.3 Check the distribution"
   ]
  },
  {
   "cell_type": "code",
   "execution_count": 7,
   "metadata": {},
   "outputs": [
    {
     "name": "stdout",
     "output_type": "stream",
     "text": [
      "default.payment.next.month\n",
      "0                             15586\n",
      "1                              4414\n",
      "dtype: int64\n",
      "default.payment.next.month\n",
      "0                             0.7793\n",
      "1                             0.2207\n",
      "dtype: float64\n"
     ]
    }
   ],
   "source": [
    "# By number\n",
    "print(df[target].value_counts())\n",
    "\n",
    "# By percentage\n",
    "print(df[target].value_counts(normalize=True))"
   ]
  },
  {
   "cell_type": "markdown",
   "metadata": {},
   "source": [
    "#### 1.4 Train/Test Split"
   ]
  },
  {
   "cell_type": "code",
   "execution_count": 8,
   "metadata": {},
   "outputs": [
    {
     "name": "stdout",
     "output_type": "stream",
     "text": [
      "Train split size:  (16000, 24)\n",
      "Test split size:  (4000, 24)\n"
     ]
    }
   ],
   "source": [
    "random.seed = 1\n",
    "#Train-test split\n",
    "X_train, X_test, y_train, y_test = train_test_split(df[id_var+predictors], \n",
    "    df[target], test_size = 0.2, stratify = df[target])\n",
    "\n",
    "#Check dimensions\n",
    "print('Train split size: ', X_train.shape)\n",
    "print('Test split size: ', X_test.shape)"
   ]
  },
  {
   "cell_type": "markdown",
   "metadata": {},
   "source": [
    "## 2. Processing Data"
   ]
  },
  {
   "cell_type": "markdown",
   "metadata": {},
   "source": [
    "#### 2.1 Error Correction"
   ]
  },
  {
   "cell_type": "markdown",
   "metadata": {},
   "source": [
    "#### Missing Values"
   ]
  },
  {
   "cell_type": "code",
   "execution_count": 9,
   "metadata": {},
   "outputs": [
    {
     "name": "stdout",
     "output_type": "stream",
     "text": [
      "Train - # NA of num vars: 3585\n",
      "Train - # NA of num vars: 863\n"
     ]
    }
   ],
   "source": [
    "# Check missing value\n",
    "print('Train - # NA of num vars:', X_train[predictors].isna().sum().sum())\n",
    "print('Train - # NA of num vars:', X_test[predictors].isna().sum().sum())"
   ]
  },
  {
   "cell_type": "markdown",
   "metadata": {},
   "source": [
    "We create categoricals in order to create dummy variables later"
   ]
  },
  {
   "cell_type": "markdown",
   "metadata": {},
   "source": [
    "Education"
   ]
  },
  {
   "cell_type": "code",
   "execution_count": 10,
   "metadata": {},
   "outputs": [],
   "source": [
    "#Train\n",
    "X_train['EDUCATION'].fillna(value='missing', inplace=True) \n",
    "\n",
    "X_train['EDUCATION'] = np.where(X_train['EDUCATION'] == 1, 'graduate',\n",
    "    np.where(X_train['EDUCATION'] == 2, 'university', \n",
    "        np.where(X_train['EDUCATION'] == 3, 'highschool', \n",
    "            np.where(X_train['EDUCATION']=='missing', 'missing', 'other'))))\n",
    "\n",
    "#Test\n",
    "X_test['EDUCATION'].fillna(value='missing', inplace=True) \n",
    "\n",
    "X_test['EDUCATION'] = np.where(X_test['EDUCATION'] == 1, 'graduate',\n",
    "    np.where(X_test['EDUCATION'] == 2, 'university', \n",
    "        np.where(X_test['EDUCATION'] == 3, 'highschool', \n",
    "            np.where(X_test['EDUCATION']=='missing', 'missing', 'other'))))"
   ]
  },
  {
   "cell_type": "markdown",
   "metadata": {},
   "source": [
    "Sex"
   ]
  },
  {
   "cell_type": "code",
   "execution_count": 11,
   "metadata": {},
   "outputs": [],
   "source": [
    "#Train\n",
    "X_train['SEX'] = np.where(X_train['SEX'] == 1, 'male', \n",
    "    np.where(X_train['SEX'] == 2, 'female', 'missing'))\n",
    "\n",
    "#Test\n",
    "X_test['SEX'] = np.where(X_test['SEX'] == 1, 'male', \n",
    "    np.where(X_test['SEX'] == 2, 'female', 'missing'))"
   ]
  },
  {
   "cell_type": "markdown",
   "metadata": {},
   "source": [
    "Marriage"
   ]
  },
  {
   "cell_type": "code",
   "execution_count": 12,
   "metadata": {},
   "outputs": [],
   "source": [
    "#Train\n",
    "X_train['MARRIAGE'].fillna(value='missing', inplace=True) \n",
    "\n",
    "X_train['MARRIAGE'] = np.where(X_train['MARRIAGE'] == 1, 'married', \n",
    "    np.where(X_train['MARRIAGE'] == 2, 'single', \n",
    "        np.where(X_train['MARRIAGE'] == 'missing', 'missing', 'other')))\n",
    "\n",
    "#Test\n",
    "X_test['MARRIAGE'].fillna(value='missing', inplace=True) \n",
    "\n",
    "X_test['MARRIAGE'] = np.where(X_test['MARRIAGE'] == 1, 'married', \n",
    "    np.where(X_test['MARRIAGE'] == 2, 'single', \n",
    "        np.where(X_test['MARRIAGE'] == 'missing', 'missing', 'other')))\n",
    "        "
   ]
  },
  {
   "cell_type": "markdown",
   "metadata": {},
   "source": [
    "Age: Fill with mean"
   ]
  },
  {
   "cell_type": "code",
   "execution_count": 13,
   "metadata": {},
   "outputs": [],
   "source": [
    "#Train\n",
    "X_train['missing_age'] = np.where(X_train['AGE'].isnull(), 1, 0)\n",
    "\n",
    "#input mean\n",
    "age_mean = X_train['AGE'].mean()\n",
    "X_train['AGE'].fillna(value=age_mean, inplace=True)\n",
    "\n",
    "#Test: we fill with the train mean \n",
    "X_test['missing_age'] = np.where(X_test['AGE'].isnull(), 1, 0)\n",
    "X_test['AGE'].fillna(value=age_mean, inplace=True)"
   ]
  },
  {
   "cell_type": "markdown",
   "metadata": {},
   "source": [
    "Limit Bal: fill with mode"
   ]
  },
  {
   "cell_type": "code",
   "execution_count": 14,
   "metadata": {},
   "outputs": [],
   "source": [
    "#Train\n",
    "X_train['missing_limit_bal'] = np.where(X_train['LIMIT_BAL'].isnull(), 1, 0)\n",
    "\n",
    "limit_mode = X_train['LIMIT_BAL'].mode()[0]\n",
    "X_train['LIMIT_BAL'].fillna(value=limit_mode, inplace=True) \n",
    "\n",
    "#test\n",
    "X_test['missing_limit_bal'] = np.where(X_test['LIMIT_BAL'].isnull(), 1, 0)\n",
    "X_test['LIMIT_BAL'].fillna(value=limit_mode, inplace=True) "
   ]
  },
  {
   "cell_type": "markdown",
   "metadata": {},
   "source": [
    "Other Columns"
   ]
  },
  {
   "cell_type": "code",
   "execution_count": 15,
   "metadata": {},
   "outputs": [],
   "source": [
    "#Create column list to loop\n",
    "column_list_train = X_train.columns.values\n",
    "column_list_test  = X_test.columns.values\n",
    "\n",
    "#If column has null, then create missing tracker and fill NA with 0\n",
    "\n",
    "#Train\n",
    "for c in column_list_train:\n",
    "    if X_train[c].isna().sum() > 0:\n",
    "        X_train['missing_' + str(c)] = np.where(X_train[c].isnull(), 1, 0)\n",
    "        X_train[c].fillna(0, inplace=True) \n",
    "\n",
    "#Test\n",
    "for c in column_list_test:\n",
    "    if X_test[c].isna().sum() > 0:\n",
    "        X_test['missing_' + str(c)] = np.where(X_test[c].isnull(), 1, 0)\n",
    "        X_test[c].fillna(0, inplace=True) "
   ]
  },
  {
   "cell_type": "code",
   "execution_count": 16,
   "metadata": {},
   "outputs": [
    {
     "name": "stdout",
     "output_type": "stream",
     "text": [
      "Train null values:  0\n",
      "Test null values:  0\n"
     ]
    }
   ],
   "source": [
    "#Validation\n",
    "print('Train null values: ', X_train.isna().sum().sum())\n",
    "print('Test null values: ', X_train.isna().sum().sum())"
   ]
  },
  {
   "cell_type": "markdown",
   "metadata": {},
   "source": [
    "#### 2.2 Outlier Treatment\n",
    "\n",
    "We check for outliers but decide not to treat them"
   ]
  },
  {
   "cell_type": "code",
   "execution_count": 17,
   "metadata": {},
   "outputs": [],
   "source": [
    "num_vars = ['LIMIT_BAL', 'AGE','BILL_AMT1', 'BILL_AMT2',\n",
    "    'BILL_AMT3', 'BILL_AMT4', 'BILL_AMT5', 'BILL_AMT6', 'PAY_AMT1',\n",
    "    'PAY_AMT2', 'PAY_AMT3', 'PAY_AMT4', 'PAY_AMT5', 'PAY_AMT6' ] \n",
    "\n",
    "cat_vars = ['MARRIAGE','EDUCATION','SEX', \n",
    "    'PAY_0', 'PAY_2','PAY_3', 'PAY_4', 'PAY_5', 'PAY_6']"
   ]
  },
  {
   "cell_type": "code",
   "execution_count": 18,
   "metadata": {},
   "outputs": [
    {
     "name": "stdout",
     "output_type": "stream",
     "text": [
      "LIMIT_BAL has # outliers on train, test : 77 [ 0.48 % ] 15 [ 0.38 % ]\n",
      "AGE has # outliers on train, test : 78 [ 0.49 % ] 11 [ 0.27 % ]\n",
      "BILL_AMT1 has # outliers on train, test : 374 [ 2.34 % ] 82 [ 2.05 % ]\n",
      "BILL_AMT2 has # outliers on train, test : 365 [ 2.28 % ] 86 [ 2.15 % ]\n",
      "BILL_AMT3 has # outliers on train, test : 348 [ 2.17 % ] 87 [ 2.17 % ]\n",
      "BILL_AMT4 has # outliers on train, test : 353 [ 2.21 % ] 95 [ 2.38 % ]\n",
      "BILL_AMT5 has # outliers on train, test : 338 [ 2.11 % ] 95 [ 2.38 % ]\n",
      "BILL_AMT6 has # outliers on train, test : 341 [ 2.13 % ] 92 [ 2.3 % ]\n",
      "PAY_AMT1 has # outliers on train, test : 227 [ 1.42 % ] 48 [ 1.2 % ]\n",
      "PAY_AMT2 has # outliers on train, test : 151 [ 0.94 % ] 39 [ 0.98 % ]\n",
      "PAY_AMT3 has # outliers on train, test : 197 [ 1.23 % ] 43 [ 1.08 % ]\n",
      "PAY_AMT4 has # outliers on train, test : 225 [ 1.41 % ] 69 [ 1.72 % ]\n",
      "PAY_AMT5 has # outliers on train, test : 225 [ 1.41 % ] 56 [ 1.4 % ]\n",
      "PAY_AMT6 has # outliers on train, test : 244 [ 1.52 % ] 46 [ 1.15 % ]\n"
     ]
    }
   ],
   "source": [
    "#This code is taken from the preprocess example from professor Minh\n",
    "for v in num_vars:\n",
    "    # Calculate the boundaries on train [mean-3*sd, mean+3*sd]\n",
    "    mu = np.mean(X_train[v])\n",
    "    sd = np.std(X_train[v])\n",
    "    lower = mu - 3*sd\n",
    "    upper = mu + 3*sd\n",
    "    # Check outliers using the boundaries\n",
    "    train_out = (X_train[v] < lower) | (X_train[v] > upper)\n",
    "    test_out = (X_test[v] < lower) | (X_test[v] > upper)\n",
    "    if np.sum(train_out) + np.sum(test_out) > 0:\n",
    "        print(v, \"has # outliers on train, test :\",\n",
    "              np.sum(train_out), \"[\", np.round(100*np.mean(train_out), 2), \"% ]\",\n",
    "              np.sum(test_out), \"[\", np.round(100*np.mean(test_out), 2), \"% ]\")"
   ]
  },
  {
   "cell_type": "markdown",
   "metadata": {},
   "source": [
    "### 2.3 Feature Creation and Encoding"
   ]
  },
  {
   "cell_type": "code",
   "execution_count": 19,
   "metadata": {},
   "outputs": [],
   "source": [
    "#we create categoricals from pay\n",
    "pay_columns = ['PAY_0', 'PAY_2','PAY_3', 'PAY_4', 'PAY_5', 'PAY_6']\n",
    "\n",
    "#Train\n",
    "for c in pay_columns:\n",
    "    X_train[c] = np.where(X_train[c] < -1, 'very_early', \n",
    "        np.where(X_train[c] == -1, 'early', \n",
    "            np.where(X_train[c] > 0, 'late',\n",
    "                np.where(X_train[c] > 2, 'very_late', 'normal'))))\n",
    "#Test\n",
    "for c in pay_columns:\n",
    "    X_test[c] = np.where(X_test[c] < -1, 'very_early', \n",
    "        np.where(X_test[c] == -1, 'early', \n",
    "            np.where(X_test[c] > 0, 'late',\n",
    "                np.where(X_test[c] > 2, 'very_late', 'normal'))))"
   ]
  },
  {
   "cell_type": "code",
   "execution_count": 20,
   "metadata": {},
   "outputs": [],
   "source": [
    "#Train\n",
    "X_train = pd.get_dummies(X_train, columns = cat_vars, drop_first= True)\n",
    "\n",
    "#Test\n",
    "X_test = pd.get_dummies(X_test, columns = cat_vars, drop_first= True)"
   ]
  },
  {
   "cell_type": "code",
   "execution_count": 21,
   "metadata": {},
   "outputs": [],
   "source": [
    "#Age Column \n",
    "bins = [20, 30, 40, 50, 60, 80]\n",
    "labels = ['20-29', '30-39', '40-49', '50-59', '60+']\n",
    "\n",
    "#Train\n",
    "X_train['agerange'] = pd.cut(X_train.AGE, bins, labels = labels, include_lowest = True) \n",
    "X_train = pd.get_dummies(X_train, columns = ['agerange'])\n",
    "X_train = X_train.drop(columns=['AGE'])\n",
    "\n",
    "#Test\n",
    "X_test['agerange'] = pd.cut(X_test.AGE, bins, labels = labels, include_lowest = True) \n",
    "X_test = pd.get_dummies(X_test, columns = ['agerange'])\n",
    "X_test = X_test.drop(columns=['AGE'])"
   ]
  },
  {
   "cell_type": "markdown",
   "metadata": {},
   "source": [
    "#### 2.4 Data Normalization"
   ]
  },
  {
   "cell_type": "code",
   "execution_count": 22,
   "metadata": {},
   "outputs": [],
   "source": [
    "#remove age form numericals\n",
    "num_vars = ['LIMIT_BAL', 'BILL_AMT1', 'BILL_AMT2',\n",
    "    'BILL_AMT3', 'BILL_AMT4', 'BILL_AMT5', 'BILL_AMT6', 'PAY_AMT1',\n",
    "    'PAY_AMT2', 'PAY_AMT3', 'PAY_AMT4', 'PAY_AMT5', 'PAY_AMT6' ] "
   ]
  },
  {
   "cell_type": "code",
   "execution_count": 23,
   "metadata": {},
   "outputs": [],
   "source": [
    "for v in num_vars:\n",
    "    # Build the normalizer on train\n",
    "    scaler = MinMaxScaler().fit(X_train[[v]])\n",
    "    # Apply on train, test\n",
    "    X_train[v] = scaler.transform(X_train[[v]])\n",
    "    X_test[v] = scaler.transform(X_test[[v]])"
   ]
  },
  {
   "cell_type": "markdown",
   "metadata": {},
   "source": [
    "Droping constant and low variance variables"
   ]
  },
  {
   "cell_type": "code",
   "execution_count": 24,
   "metadata": {},
   "outputs": [],
   "source": [
    "predictors = ['LIMIT_BAL', 'BILL_AMT1', 'BILL_AMT2', 'BILL_AMT3', 'BILL_AMT4',\n",
    "       'BILL_AMT5', 'BILL_AMT6', 'PAY_AMT1', 'PAY_AMT2', 'PAY_AMT3',\n",
    "       'PAY_AMT4', 'PAY_AMT5', 'PAY_AMT6', 'missing_age', 'missing_limit_bal',\n",
    "       'missing_PAY_0', 'missing_PAY_2', 'missing_PAY_3', 'missing_PAY_4',\n",
    "       'missing_PAY_5', 'missing_PAY_6', 'missing_BILL_AMT1',\n",
    "       'missing_BILL_AMT2', 'missing_BILL_AMT3', 'missing_BILL_AMT4',\n",
    "       'missing_BILL_AMT5', 'missing_BILL_AMT6', 'missing_PAY_AMT1',\n",
    "       'missing_PAY_AMT2', 'missing_PAY_AMT3', 'missing_PAY_AMT4',\n",
    "       'missing_PAY_AMT5', 'missing_PAY_AMT6', 'MARRIAGE_missing',\n",
    "       'MARRIAGE_other', 'MARRIAGE_single', 'EDUCATION_highschool',\n",
    "       'EDUCATION_missing', 'EDUCATION_other', 'EDUCATION_university',\n",
    "       'SEX_male', 'SEX_missing', 'PAY_0_late', 'PAY_0_normal',\n",
    "       'PAY_0_very_early', 'PAY_2_late', 'PAY_2_normal', 'PAY_2_very_early',\n",
    "       'PAY_3_late', 'PAY_3_normal', 'PAY_3_very_early', 'PAY_4_late',\n",
    "       'PAY_4_normal', 'PAY_4_very_early', 'PAY_5_late', 'PAY_5_normal',\n",
    "       'PAY_5_very_early', 'PAY_6_late', 'PAY_6_normal', 'PAY_6_very_early',\n",
    "       'agerange_20-29', 'agerange_30-39', 'agerange_40-49', 'agerange_50-59',\n",
    "       'agerange_60+']"
   ]
  },
  {
   "cell_type": "code",
   "execution_count": 25,
   "metadata": {},
   "outputs": [
    {
     "name": "stdout",
     "output_type": "stream",
     "text": [
      "Drop # constant vars : 0\n"
     ]
    }
   ],
   "source": [
    "# Detect constant vars\n",
    "sel = VarianceThreshold(0)  # Var = 0 by default\n",
    "sel.fit(X_train[predictors])\n",
    "const_vars = [predictors[i] for i in np.where(sel.variances_ == 0)[0]]\n",
    "predictors = [v for v in predictors if v not in const_vars]\n",
    "\n",
    "# Drop from train, test\n",
    "print('Drop # constant vars :', len(const_vars))\n",
    "X_train = X_train.drop(const_vars, axis=1)\n",
    "X_test = X_test.drop(const_vars, axis=1)"
   ]
  },
  {
   "cell_type": "markdown",
   "metadata": {},
   "source": [
    "#### 2.5 Drop Duplicates"
   ]
  },
  {
   "cell_type": "code",
   "execution_count": 26,
   "metadata": {},
   "outputs": [
    {
     "name": "stdout",
     "output_type": "stream",
     "text": [
      "# duplicated vars : 0\n"
     ]
    }
   ],
   "source": [
    "# Count the duplicated vars\n",
    "dup_vars = X_train[predictors].T.duplicated()\n",
    "print('# duplicated vars :', dup_vars.sum())"
   ]
  },
  {
   "cell_type": "markdown",
   "metadata": {},
   "source": [
    "#### 2.6 Export data file"
   ]
  },
  {
   "cell_type": "code",
   "execution_count": 27,
   "metadata": {},
   "outputs": [
    {
     "name": "stdout",
     "output_type": "stream",
     "text": [
      "(16000, 67)\n",
      "(4000, 67)\n"
     ]
    }
   ],
   "source": [
    "#Readd target to basetable\n",
    "X_train['target'] = y_train\n",
    "X_test['target'] = y_test\n",
    "\n",
    "print(X_train.shape)\n",
    "print(X_test.shape)"
   ]
  },
  {
   "cell_type": "code",
   "execution_count": 28,
   "metadata": {},
   "outputs": [],
   "source": [
    "#Save to pickle format\n",
    "X_train.to_pickle(wd + \"/data/final/train_processed.pkl\")\n",
    "X_test.to_pickle(wd + \"/data/final/test_processed.pkl\")"
   ]
  },
  {
   "cell_type": "markdown",
   "metadata": {},
   "source": [
    "## 3. Feature Selection"
   ]
  },
  {
   "cell_type": "code",
   "execution_count": 5,
   "metadata": {},
   "outputs": [],
   "source": [
    "train = pd.read_pickle(wd + \"/data/final/train_processed.pkl\")\n",
    "test = pd.read_pickle(wd + \"/data/final/test_processed.pkl\")"
   ]
  },
  {
   "cell_type": "code",
   "execution_count": 33,
   "metadata": {},
   "outputs": [
    {
     "name": "stdout",
     "output_type": "stream",
     "text": [
      "Train split size:  (16000, 67)\n",
      "Test split size:  (4000, 67)\n"
     ]
    }
   ],
   "source": [
    "#Check dimensions\n",
    "print('Train split size: ', train.shape)\n",
    "print('Test split size: ', test.shape)"
   ]
  },
  {
   "cell_type": "code",
   "execution_count": 34,
   "metadata": {},
   "outputs": [
    {
     "data": {
      "text/html": [
       "<div>\n",
       "<style scoped>\n",
       "    .dataframe tbody tr th:only-of-type {\n",
       "        vertical-align: middle;\n",
       "    }\n",
       "\n",
       "    .dataframe tbody tr th {\n",
       "        vertical-align: top;\n",
       "    }\n",
       "\n",
       "    .dataframe thead th {\n",
       "        text-align: right;\n",
       "    }\n",
       "</style>\n",
       "<table border=\"1\" class=\"dataframe\">\n",
       "  <thead>\n",
       "    <tr style=\"text-align: right;\">\n",
       "      <th></th>\n",
       "      <th>cust_id</th>\n",
       "      <th>LIMIT_BAL</th>\n",
       "      <th>BILL_AMT1</th>\n",
       "      <th>BILL_AMT2</th>\n",
       "      <th>BILL_AMT3</th>\n",
       "      <th>BILL_AMT4</th>\n",
       "      <th>BILL_AMT5</th>\n",
       "      <th>BILL_AMT6</th>\n",
       "      <th>PAY_AMT1</th>\n",
       "      <th>PAY_AMT2</th>\n",
       "      <th>...</th>\n",
       "      <th>PAY_5_very_early</th>\n",
       "      <th>PAY_6_late</th>\n",
       "      <th>PAY_6_normal</th>\n",
       "      <th>PAY_6_very_early</th>\n",
       "      <th>agerange_20-29</th>\n",
       "      <th>agerange_30-39</th>\n",
       "      <th>agerange_40-49</th>\n",
       "      <th>agerange_50-59</th>\n",
       "      <th>agerange_60+</th>\n",
       "      <th>target</th>\n",
       "    </tr>\n",
       "  </thead>\n",
       "  <tbody>\n",
       "    <tr>\n",
       "      <th>11703</th>\n",
       "      <td>22008</td>\n",
       "      <td>0.353535</td>\n",
       "      <td>0.434849</td>\n",
       "      <td>0.351618</td>\n",
       "      <td>0.182029</td>\n",
       "      <td>0.399175</td>\n",
       "      <td>0.333918</td>\n",
       "      <td>0.456039</td>\n",
       "      <td>0.021947</td>\n",
       "      <td>0.005313</td>\n",
       "      <td>...</td>\n",
       "      <td>0</td>\n",
       "      <td>0</td>\n",
       "      <td>1</td>\n",
       "      <td>0</td>\n",
       "      <td>0</td>\n",
       "      <td>1</td>\n",
       "      <td>0</td>\n",
       "      <td>0</td>\n",
       "      <td>0</td>\n",
       "      <td>0</td>\n",
       "    </tr>\n",
       "    <tr>\n",
       "      <th>7726</th>\n",
       "      <td>22409</td>\n",
       "      <td>0.353535</td>\n",
       "      <td>0.147462</td>\n",
       "      <td>0.066220</td>\n",
       "      <td>0.036152</td>\n",
       "      <td>0.161214</td>\n",
       "      <td>0.081566</td>\n",
       "      <td>0.262055</td>\n",
       "      <td>0.000000</td>\n",
       "      <td>0.000521</td>\n",
       "      <td>...</td>\n",
       "      <td>0</td>\n",
       "      <td>0</td>\n",
       "      <td>0</td>\n",
       "      <td>0</td>\n",
       "      <td>0</td>\n",
       "      <td>1</td>\n",
       "      <td>0</td>\n",
       "      <td>0</td>\n",
       "      <td>0</td>\n",
       "      <td>1</td>\n",
       "    </tr>\n",
       "    <tr>\n",
       "      <th>12975</th>\n",
       "      <td>7799</td>\n",
       "      <td>0.040404</td>\n",
       "      <td>0.241429</td>\n",
       "      <td>0.165035</td>\n",
       "      <td>0.096342</td>\n",
       "      <td>0.261520</td>\n",
       "      <td>0.194314</td>\n",
       "      <td>0.350817</td>\n",
       "      <td>0.000000</td>\n",
       "      <td>0.002281</td>\n",
       "      <td>...</td>\n",
       "      <td>0</td>\n",
       "      <td>1</td>\n",
       "      <td>0</td>\n",
       "      <td>0</td>\n",
       "      <td>1</td>\n",
       "      <td>0</td>\n",
       "      <td>0</td>\n",
       "      <td>0</td>\n",
       "      <td>0</td>\n",
       "      <td>0</td>\n",
       "    </tr>\n",
       "    <tr>\n",
       "      <th>13781</th>\n",
       "      <td>16331</td>\n",
       "      <td>0.050505</td>\n",
       "      <td>0.201028</td>\n",
       "      <td>0.125015</td>\n",
       "      <td>0.070797</td>\n",
       "      <td>0.187545</td>\n",
       "      <td>0.098135</td>\n",
       "      <td>0.285114</td>\n",
       "      <td>0.006535</td>\n",
       "      <td>0.001187</td>\n",
       "      <td>...</td>\n",
       "      <td>0</td>\n",
       "      <td>0</td>\n",
       "      <td>1</td>\n",
       "      <td>0</td>\n",
       "      <td>0</td>\n",
       "      <td>0</td>\n",
       "      <td>1</td>\n",
       "      <td>0</td>\n",
       "      <td>0</td>\n",
       "      <td>1</td>\n",
       "    </tr>\n",
       "    <tr>\n",
       "      <th>11560</th>\n",
       "      <td>19225</td>\n",
       "      <td>0.010101</td>\n",
       "      <td>0.163653</td>\n",
       "      <td>0.084830</td>\n",
       "      <td>0.035417</td>\n",
       "      <td>0.178425</td>\n",
       "      <td>0.092768</td>\n",
       "      <td>0.262600</td>\n",
       "      <td>0.002376</td>\n",
       "      <td>0.000095</td>\n",
       "      <td>...</td>\n",
       "      <td>0</td>\n",
       "      <td>0</td>\n",
       "      <td>0</td>\n",
       "      <td>0</td>\n",
       "      <td>0</td>\n",
       "      <td>0</td>\n",
       "      <td>1</td>\n",
       "      <td>0</td>\n",
       "      <td>0</td>\n",
       "      <td>0</td>\n",
       "    </tr>\n",
       "  </tbody>\n",
       "</table>\n",
       "<p>5 rows × 67 columns</p>\n",
       "</div>"
      ],
      "text/plain": [
       "       cust_id  LIMIT_BAL  BILL_AMT1  BILL_AMT2  BILL_AMT3  BILL_AMT4  \\\n",
       "11703    22008   0.353535   0.434849   0.351618   0.182029   0.399175   \n",
       "7726     22409   0.353535   0.147462   0.066220   0.036152   0.161214   \n",
       "12975     7799   0.040404   0.241429   0.165035   0.096342   0.261520   \n",
       "13781    16331   0.050505   0.201028   0.125015   0.070797   0.187545   \n",
       "11560    19225   0.010101   0.163653   0.084830   0.035417   0.178425   \n",
       "\n",
       "       BILL_AMT5  BILL_AMT6  PAY_AMT1  PAY_AMT2  ...  PAY_5_very_early  \\\n",
       "11703   0.333918   0.456039  0.021947  0.005313  ...                 0   \n",
       "7726    0.081566   0.262055  0.000000  0.000521  ...                 0   \n",
       "12975   0.194314   0.350817  0.000000  0.002281  ...                 0   \n",
       "13781   0.098135   0.285114  0.006535  0.001187  ...                 0   \n",
       "11560   0.092768   0.262600  0.002376  0.000095  ...                 0   \n",
       "\n",
       "       PAY_6_late  PAY_6_normal  PAY_6_very_early  agerange_20-29  \\\n",
       "11703           0             1                 0               0   \n",
       "7726            0             0                 0               0   \n",
       "12975           1             0                 0               1   \n",
       "13781           0             1                 0               0   \n",
       "11560           0             0                 0               0   \n",
       "\n",
       "       agerange_30-39  agerange_40-49  agerange_50-59  agerange_60+  target  \n",
       "11703               1               0               0             0       0  \n",
       "7726                1               0               0             0       1  \n",
       "12975               0               0               0             0       0  \n",
       "13781               0               1               0             0       1  \n",
       "11560               0               1               0             0       0  \n",
       "\n",
       "[5 rows x 67 columns]"
      ]
     },
     "execution_count": 34,
     "metadata": {},
     "output_type": "execute_result"
    }
   ],
   "source": [
    "train.head()"
   ]
  },
  {
   "cell_type": "code",
   "execution_count": 6,
   "metadata": {},
   "outputs": [],
   "source": [
    "# Create several lists to handle variables\n",
    "id_var = ['cust_id']\n",
    "target_var = ['target']\n",
    "predictors = [v for v in train.columns if v not in id_var + target_var]"
   ]
  },
  {
   "cell_type": "code",
   "execution_count": 7,
   "metadata": {},
   "outputs": [],
   "source": [
    "def FisherScore(bt, target_var, predictors):\n",
    "    \"\"\"\n",
    "    This function calculate the Fisher score of a variable.\n",
    "\n",
    "    Ref:\n",
    "    ---\n",
    "    Verbeke, W., Dejaeger, K., Martens, D., Hur, J., & Baesens, B. (2012). New insights\n",
    "    into churn prediction in the telecommunication sector: A profit driven data mining\n",
    "    approach. European Journal of Operational Research, 218(1), 211-229.\n",
    "    \"\"\"\n",
    "    \n",
    "    # Get the unique values of dependent variable\n",
    "    target_var_val = bt[target_var].unique()\n",
    "    # Calculate FisherScore for each predictor\n",
    "    predictor_FisherScore = []\n",
    "    for v in predictors:\n",
    "        fs = np.abs(np.mean(bt.loc[bt[target_var]==target_var_val[0], v]) - np.mean(bt.loc[bt[target_var]==target_var_val[1], v])) / \\\n",
    "             np.sqrt(np.var(bt.loc[bt[target_var]==target_var_val[0], v]) + np.var(bt.loc[bt[target_var]==target_var_val[1], v]))\n",
    "        predictor_FisherScore.append(fs)\n",
    "    return predictor_FisherScore"
   ]
  },
  {
   "cell_type": "code",
   "execution_count": 8,
   "metadata": {},
   "outputs": [
    {
     "data": {
      "text/html": [
       "<div>\n",
       "<style scoped>\n",
       "    .dataframe tbody tr th:only-of-type {\n",
       "        vertical-align: middle;\n",
       "    }\n",
       "\n",
       "    .dataframe tbody tr th {\n",
       "        vertical-align: top;\n",
       "    }\n",
       "\n",
       "    .dataframe thead th {\n",
       "        text-align: right;\n",
       "    }\n",
       "</style>\n",
       "<table border=\"1\" class=\"dataframe\">\n",
       "  <thead>\n",
       "    <tr style=\"text-align: right;\">\n",
       "      <th></th>\n",
       "      <th>predictor</th>\n",
       "      <th>fisherscore</th>\n",
       "    </tr>\n",
       "  </thead>\n",
       "  <tbody>\n",
       "    <tr>\n",
       "      <th>42</th>\n",
       "      <td>PAY_0_late</td>\n",
       "      <td>0.590607</td>\n",
       "    </tr>\n",
       "    <tr>\n",
       "      <th>45</th>\n",
       "      <td>PAY_2_late</td>\n",
       "      <td>0.509229</td>\n",
       "    </tr>\n",
       "    <tr>\n",
       "      <th>48</th>\n",
       "      <td>PAY_3_late</td>\n",
       "      <td>0.440814</td>\n",
       "    </tr>\n",
       "    <tr>\n",
       "      <th>51</th>\n",
       "      <td>PAY_4_late</td>\n",
       "      <td>0.410299</td>\n",
       "    </tr>\n",
       "    <tr>\n",
       "      <th>54</th>\n",
       "      <td>PAY_5_late</td>\n",
       "      <td>0.390907</td>\n",
       "    </tr>\n",
       "  </tbody>\n",
       "</table>\n",
       "</div>"
      ],
      "text/plain": [
       "     predictor  fisherscore\n",
       "42  PAY_0_late     0.590607\n",
       "45  PAY_2_late     0.509229\n",
       "48  PAY_3_late     0.440814\n",
       "51  PAY_4_late     0.410299\n",
       "54  PAY_5_late     0.390907"
      ]
     },
     "execution_count": 8,
     "metadata": {},
     "output_type": "execute_result"
    }
   ],
   "source": [
    "# Calculate Fisher Score for all variable\n",
    "fs = FisherScore(train, target_var[0], predictors)\n",
    "fs_df = pd.DataFrame({\"predictor\":predictors, \"fisherscore\":fs})\n",
    "fs_df = fs_df.sort_values('fisherscore', ascending=False)\n",
    "fs_df.head()"
   ]
  },
  {
   "cell_type": "code",
   "execution_count": 9,
   "metadata": {},
   "outputs": [
    {
     "data": {
      "image/png": "[encoded data removed]",
      "text/plain": [
       "<Figure size 432x288 with 1 Axes>"
      ]
     },
     "metadata": {
      "needs_background": "light"
     },
     "output_type": "display_data"
    }
   ],
   "source": [
    "# Visualize the Fisher Score\n",
    "plt.plot(fs_df['fisherscore'].values.squeeze())\n",
    "plt.axvline(x=20, linestyle='dashed', color='red')\n",
    "plt.xticks(rotation=45)\n",
    "plt.xlabel(str(fs_df.shape[0]) + ' predictors')\n",
    "plt.ylabel('Fisher Score')\n",
    "plt.legend(['Fisher Score', 'Top20'])\n",
    "plt.show()"
   ]
  },
  {
   "cell_type": "code",
   "execution_count": 10,
   "metadata": {},
   "outputs": [
    {
     "data": {
      "image/png": "[encoded data removed]",
      "text/plain": [
       "<Figure size 432x288 with 1 Axes>"
      ]
     },
     "metadata": {
      "needs_background": "light"
     },
     "output_type": "display_data"
    }
   ],
   "source": [
    "# Check how AUC change when add more variables: Top n vars\n",
    "fs_scores = []\n",
    "top_n_vars = 40\n",
    "for i in range(1, top_n_vars+1):\n",
    "    if i % 100 == 0: print('Added # top vars :', i)\n",
    "    top_n_predictors = fs_df['predictor'][:i]\n",
    "    clf = LogisticRegression()\n",
    "    fs_scores.append(cross_validate(clf, train[top_n_predictors], train[target_var].values.squeeze(),\n",
    "                                    scoring='roc_auc', cv=5, verbose=0, n_jobs=-1, return_train_score=True))\n",
    "\n",
    "# How the AUC curve looks like when adding top vars\n",
    "plt.plot([s['train_score'].mean() for s in fs_scores], color='blue')\n",
    "plt.plot([s['test_score'].mean() for s in fs_scores], color='red')\n",
    "plt.xlabel('# vars')\n",
    "plt.ylabel('AUC')\n",
    "plt.legend(['Train', 'Test'])\n",
    "plt.show()"
   ]
  },
  {
   "cell_type": "code",
   "execution_count": 11,
   "metadata": {},
   "outputs": [
    {
     "name": "stdout",
     "output_type": "stream",
     "text": [
      "Selected # vars : 35\n"
     ]
    },
    {
     "data": {
      "text/plain": [
       "array(['PAY_0_late', 'PAY_2_late', 'PAY_3_late', 'PAY_4_late',\n",
       "       'PAY_5_late', 'PAY_0_normal', 'PAY_6_late', 'PAY_2_normal',\n",
       "       'LIMIT_BAL', 'PAY_3_normal', 'PAY_4_normal', 'PAY_6_normal',\n",
       "       'PAY_5_normal', 'PAY_AMT1', 'PAY_AMT4', 'PAY_AMT2',\n",
       "       'PAY_0_very_early', 'PAY_AMT5', 'PAY_AMT6', 'EDUCATION_other',\n",
       "       'PAY_AMT3', 'EDUCATION_university', 'PAY_2_very_early',\n",
       "       'PAY_3_very_early', 'SEX_male', 'agerange_30-39',\n",
       "       'PAY_4_very_early', 'PAY_5_very_early', 'BILL_AMT1',\n",
       "       'MARRIAGE_single', 'BILL_AMT3', 'EDUCATION_highschool',\n",
       "       'missing_PAY_3', 'PAY_6_very_early', 'BILL_AMT2'], dtype=object)"
      ]
     },
     "execution_count": 11,
     "metadata": {},
     "output_type": "execute_result"
    }
   ],
   "source": [
    "# Select the top variables based on Fisher Score\n",
    "n_top_fs_vars = 35  # Top FS vars\n",
    "top_fs_vars = fs_df['predictor'].values[:n_top_fs_vars]\n",
    "print(\"Selected # vars :\", len(top_fs_vars))\n",
    "top_fs_vars"
   ]
  },
  {
   "cell_type": "markdown",
   "metadata": {},
   "source": [
    "## 4. Modeling"
   ]
  },
  {
   "cell_type": "markdown",
   "metadata": {},
   "source": [
    "### 4.1 Logistic Regression"
   ]
  },
  {
   "cell_type": "code",
   "execution_count": 20,
   "metadata": {},
   "outputs": [],
   "source": [
    "random.seed=1"
   ]
  },
  {
   "cell_type": "code",
   "execution_count": 13,
   "metadata": {},
   "outputs": [
    {
     "name": "stdout",
     "output_type": "stream",
     "text": [
      "Accuracy: 0.808 (0.007)\n"
     ]
    }
   ],
   "source": [
    "#Parameters\n",
    "parameters={\"C\":np.logspace(-4, 4, 50), \"penalty\":[\"l1\", \"l2\"]}# l1 lasso l2 ridge\n",
    "#Setup model\n",
    "lr=LogisticRegression()\n",
    "#Setup Cross-Validation\n",
    "cv = RepeatedStratifiedKFold(n_splits=10, n_repeats=3, random_state=1)\n",
    "#Grid Search\n",
    "lr_cv=RandomizedSearchCV(lr, parameters, cv=3)\n",
    "#Cross-validate model\n",
    "scores = cross_val_score(lr_cv, train[top_fs_vars], train['target'], scoring='accuracy', cv=cv, n_jobs=-1)\n",
    "# report performance\n",
    "print('Accuracy: %.3f (%.3f)' % (np.mean(scores), np.std(scores)))"
   ]
  },
  {
   "cell_type": "code",
   "execution_count": 19,
   "metadata": {},
   "outputs": [
    {
     "name": "stdout",
     "output_type": "stream",
     "text": [
      "Config: {'penalty': 'l2', 'C': 2222.996482526191}\n"
     ]
    }
   ],
   "source": [
    "results = lr_cv.fit(train[top_fs_vars],train['target'])\n",
    "print('Config: %s' % results.best_params_)"
   ]
  },
  {
   "cell_type": "code",
   "execution_count": 21,
   "metadata": {},
   "outputs": [],
   "source": [
    "lr=LogisticRegression(penalty = 'l2', C = 2222.996482526191).fit(train[top_fs_vars],train['target'])"
   ]
  },
  {
   "cell_type": "code",
   "execution_count": 22,
   "metadata": {},
   "outputs": [
    {
     "name": "stdout",
     "output_type": "stream",
     "text": [
      "Train completed.\n",
      "Test completed.\n"
     ]
    },
    {
     "data": {
      "text/html": [
       "<div>\n",
       "<style scoped>\n",
       "    .dataframe tbody tr th:only-of-type {\n",
       "        vertical-align: middle;\n",
       "    }\n",
       "\n",
       "    .dataframe tbody tr th {\n",
       "        vertical-align: top;\n",
       "    }\n",
       "\n",
       "    .dataframe thead th {\n",
       "        text-align: right;\n",
       "    }\n",
       "</style>\n",
       "<table border=\"1\" class=\"dataframe\">\n",
       "  <thead>\n",
       "    <tr style=\"text-align: right;\">\n",
       "      <th></th>\n",
       "      <th>Train_AUC</th>\n",
       "      <th>Train_Accuracy</th>\n",
       "      <th>Test_AUC</th>\n",
       "      <th>Test_Accuracy</th>\n",
       "    </tr>\n",
       "  </thead>\n",
       "  <tbody>\n",
       "    <tr>\n",
       "      <th>LogisticRegression</th>\n",
       "      <td>0.761012</td>\n",
       "      <td>0.809562</td>\n",
       "      <td>0.751847</td>\n",
       "      <td>0.81125</td>\n",
       "    </tr>\n",
       "  </tbody>\n",
       "</table>\n",
       "</div>"
      ],
      "text/plain": [
       "                    Train_AUC  Train_Accuracy  Test_AUC  Test_Accuracy\n",
       "LogisticRegression   0.761012        0.809562  0.751847        0.81125"
      ]
     },
     "execution_count": 22,
     "metadata": {},
     "output_type": "execute_result"
    }
   ],
   "source": [
    "#Train\n",
    "result = {}\n",
    "predictions   = lr.predict(train[top_fs_vars])\n",
    "probabilities = pd.DataFrame(lr.predict_proba(train[top_fs_vars]))[1]\n",
    "accuracy      = accuracy_score(train['target'], predictions)\n",
    "auc           = roc_auc_score(np.array(train['target']),np.array(probabilities))\n",
    "print(\"Train completed.\")\n",
    "result[\"LogisticRegression\"] = {\"Train_Accuracy\":accuracy, \"Train_AUC\":auc}\n",
    "train_perf = pd.DataFrame(result).transpose()\n",
    "\n",
    "#Test\n",
    "result = {}\n",
    "predictions   = lr.predict(test[top_fs_vars])\n",
    "probabilities = pd.DataFrame(lr.predict_proba(test[top_fs_vars]))[1]\n",
    "accuracy      = accuracy_score(test['target'], predictions)\n",
    "auc           = roc_auc_score(np.array(test['target']),np.array(probabilities))\n",
    "print(\"Test completed.\")\n",
    "result[\"LogisticRegression\"] = {\"Test_Accuracy\":accuracy,\"Test_AUC\":auc}\n",
    "test_perf = pd.DataFrame(result).transpose()\n",
    "\n",
    "#Compare Train and Test AUC\n",
    "perf_lr = train_perf.merge(test_perf, left_index=True, right_index=True)\n",
    "perf_lr"
   ]
  },
  {
   "cell_type": "code",
   "execution_count": 23,
   "metadata": {},
   "outputs": [
    {
     "data": {
      "image/png": "[encoded data removed]",
      "text/plain": [
       "<Figure size 360x360 with 2 Axes>"
      ]
     },
     "metadata": {
      "needs_background": "light"
     },
     "output_type": "display_data"
    }
   ],
   "source": [
    "cm = metrics.confusion_matrix(test['target'], predictions)\n",
    "\n",
    "plt.figure(figsize=(5,5))\n",
    "sns.heatmap(cm, annot=True, fmt=\".3f\", linewidths=.5, square = True, cmap = 'Blues_r');\n",
    "plt.ylabel('Actual label');\n",
    "plt.xlabel('Predicted label');\n",
    "all_sample_title = 'Accuracy Score: {0}'.format(accuracy)\n",
    "plt.title(all_sample_title, size = 15);"
   ]
  },
  {
   "cell_type": "markdown",
   "metadata": {},
   "source": [
    "### 4.2 Linear Discriminant Analysis"
   ]
  },
  {
   "cell_type": "code",
   "execution_count": 24,
   "metadata": {},
   "outputs": [
    {
     "name": "stdout",
     "output_type": "stream",
     "text": [
      "Accuracy: 0.808 (0.006)\n"
     ]
    }
   ],
   "source": [
    "lda = LinearDiscriminantAnalysis(solver='lsqr')\n",
    "#Parameters\n",
    "grid = dict()\n",
    "grid['shrinkage'] = arange(0, 1, 0.01)\n",
    "#Set up Crossvalidation\n",
    "cv = RepeatedStratifiedKFold(n_splits=10, n_repeats=3, random_state=1)\n",
    "#Grid Search\n",
    "lda_cv = RandomizedSearchCV(lda, grid, scoring='accuracy', cv=3, n_jobs=-1)\n",
    "#Cross-validate model\n",
    "scores = cross_val_score(lda_cv, train[top_fs_vars], train['target'], scoring='accuracy', cv=cv, n_jobs=-1)\n",
    "# report performance\n",
    "print('Accuracy: %.3f (%.3f)' % (np.mean(scores), np.std(scores)))"
   ]
  },
  {
   "cell_type": "code",
   "execution_count": 26,
   "metadata": {},
   "outputs": [
    {
     "name": "stdout",
     "output_type": "stream",
     "text": [
      "Mean Accuracy: 0.810\n",
      "Config: {'shrinkage': 0.02}\n"
     ]
    }
   ],
   "source": [
    "#Fit model\n",
    "results = lda_cv.fit(train[top_fs_vars], train['target'])\n",
    "# summarize \n",
    "print('Mean Accuracy: %.3f' % results.best_score_)\n",
    "print('Config: %s' % results.best_params_)"
   ]
  },
  {
   "cell_type": "code",
   "execution_count": 24,
   "metadata": {},
   "outputs": [],
   "source": [
    "lda = LinearDiscriminantAnalysis(solver='lsqr', shrinkage = 0.02).fit(train[top_fs_vars], train['target'])"
   ]
  },
  {
   "cell_type": "code",
   "execution_count": 25,
   "metadata": {},
   "outputs": [
    {
     "name": "stdout",
     "output_type": "stream",
     "text": [
      "Train completed.\n",
      "Test completed.\n"
     ]
    },
    {
     "data": {
      "text/html": [
       "<div>\n",
       "<style scoped>\n",
       "    .dataframe tbody tr th:only-of-type {\n",
       "        vertical-align: middle;\n",
       "    }\n",
       "\n",
       "    .dataframe tbody tr th {\n",
       "        vertical-align: top;\n",
       "    }\n",
       "\n",
       "    .dataframe thead th {\n",
       "        text-align: right;\n",
       "    }\n",
       "</style>\n",
       "<table border=\"1\" class=\"dataframe\">\n",
       "  <thead>\n",
       "    <tr style=\"text-align: right;\">\n",
       "      <th></th>\n",
       "      <th>Train_AUC</th>\n",
       "      <th>Train_Accuracy</th>\n",
       "      <th>Test_AUC</th>\n",
       "      <th>Test_Accuracy</th>\n",
       "    </tr>\n",
       "  </thead>\n",
       "  <tbody>\n",
       "    <tr>\n",
       "      <th>LDA</th>\n",
       "      <td>0.754352</td>\n",
       "      <td>0.810187</td>\n",
       "      <td>0.746116</td>\n",
       "      <td>0.81125</td>\n",
       "    </tr>\n",
       "  </tbody>\n",
       "</table>\n",
       "</div>"
      ],
      "text/plain": [
       "     Train_AUC  Train_Accuracy  Test_AUC  Test_Accuracy\n",
       "LDA   0.754352        0.810187  0.746116        0.81125"
      ]
     },
     "execution_count": 25,
     "metadata": {},
     "output_type": "execute_result"
    }
   ],
   "source": [
    "#Train\n",
    "result = {}\n",
    "predictions   = lda.predict(train[top_fs_vars])\n",
    "probabilities = pd.DataFrame(lda.predict_proba(train[top_fs_vars]))[1]\n",
    "accuracy      = accuracy_score(train['target'], predictions)\n",
    "auc           = roc_auc_score(np.array(train['target']),np.array(probabilities))\n",
    "print(\"Train completed.\")\n",
    "result[\"LDA\"] = {\"Train_Accuracy\":accuracy,\"Train_AUC\":auc}\n",
    "train_perf = pd.DataFrame(result).transpose()\n",
    "\n",
    "#Test\n",
    "result = {}\n",
    "predictions   = lda.predict(test[top_fs_vars])\n",
    "probabilities = pd.DataFrame(lda.predict_proba(test[top_fs_vars]))[1]\n",
    "accuracy      = accuracy_score(test['target'], predictions)\n",
    "auc           = roc_auc_score(np.array(test['target']),np.array(probabilities))\n",
    "print(\"Test completed.\")\n",
    "result[\"LDA\"] = {\"Test_Accuracy\":accuracy,\"Test_AUC\":auc}\n",
    "test_perf = pd.DataFrame(result).transpose()\n",
    "\n",
    "#Compare Train and Test\n",
    "perf_lda = train_perf.merge(test_perf, left_index=True, right_index=True)\n",
    "perf_lda"
   ]
  },
  {
   "cell_type": "markdown",
   "metadata": {},
   "source": [
    "#### 4.3 Decision Tree"
   ]
  },
  {
   "cell_type": "code",
   "execution_count": 30,
   "metadata": {},
   "outputs": [
    {
     "name": "stdout",
     "output_type": "stream",
     "text": [
      "Accuracy: 0.806 (0.006)\n"
     ]
    }
   ],
   "source": [
    "#setup parameters\n",
    "param = {'criterion':['gini','entropy'],\n",
    "    'max_depth':[5,10,15,20,30,50]}\n",
    "#setup cross validation\n",
    "cv = RepeatedStratifiedKFold(n_splits=10, n_repeats=3, random_state=1)\n",
    "#Grid Search\n",
    "clf = RandomizedSearchCV(DecisionTreeClassifier(), param, scoring='accuracy', cv=3, n_jobs=-1)\n",
    "#Cross-validate model\n",
    "scores = cross_val_score(clf, train[top_fs_vars], train['target'], scoring='accuracy', cv=cv, n_jobs=-1)\n",
    "# report performance\n",
    "print('Accuracy: %.3f (%.3f)' % (np.mean(scores), np.std(scores)))\n"
   ]
  },
  {
   "cell_type": "code",
   "execution_count": 31,
   "metadata": {},
   "outputs": [
    {
     "name": "stdout",
     "output_type": "stream",
     "text": [
      "Mean Accuracy: 0.806\n",
      "Config: {'max_depth': 5, 'criterion': 'entropy'}\n"
     ]
    }
   ],
   "source": [
    "results = clf.fit(train[top_fs_vars], train['target'])\n",
    "# summarize\n",
    "print('Mean Accuracy: %.3f' % results.best_score_)\n",
    "print('Config: %s' % results.best_params_)"
   ]
  },
  {
   "cell_type": "code",
   "execution_count": 26,
   "metadata": {},
   "outputs": [],
   "source": [
    "clf = DecisionTreeClassifier(criterion= 'entropy', max_depth= 5).fit(train[top_fs_vars], train['target'])"
   ]
  },
  {
   "cell_type": "code",
   "execution_count": 27,
   "metadata": {},
   "outputs": [
    {
     "name": "stdout",
     "output_type": "stream",
     "text": [
      "Train completed.\n",
      "Test completed.\n"
     ]
    },
    {
     "data": {
      "text/html": [
       "<div>\n",
       "<style scoped>\n",
       "    .dataframe tbody tr th:only-of-type {\n",
       "        vertical-align: middle;\n",
       "    }\n",
       "\n",
       "    .dataframe tbody tr th {\n",
       "        vertical-align: top;\n",
       "    }\n",
       "\n",
       "    .dataframe thead th {\n",
       "        text-align: right;\n",
       "    }\n",
       "</style>\n",
       "<table border=\"1\" class=\"dataframe\">\n",
       "  <thead>\n",
       "    <tr style=\"text-align: right;\">\n",
       "      <th></th>\n",
       "      <th>Train_AUC</th>\n",
       "      <th>Train_Accuracy</th>\n",
       "      <th>Test_AUC</th>\n",
       "      <th>Test_Accuracy</th>\n",
       "    </tr>\n",
       "  </thead>\n",
       "  <tbody>\n",
       "    <tr>\n",
       "      <th>decisiontree</th>\n",
       "      <td>0.76766</td>\n",
       "      <td>0.809125</td>\n",
       "      <td>0.74654</td>\n",
       "      <td>0.8065</td>\n",
       "    </tr>\n",
       "  </tbody>\n",
       "</table>\n",
       "</div>"
      ],
      "text/plain": [
       "              Train_AUC  Train_Accuracy  Test_AUC  Test_Accuracy\n",
       "decisiontree    0.76766        0.809125   0.74654         0.8065"
      ]
     },
     "execution_count": 27,
     "metadata": {},
     "output_type": "execute_result"
    }
   ],
   "source": [
    "#Train\n",
    "result = {}\n",
    "predictions   = clf.predict(train[top_fs_vars])\n",
    "probabilities = pd.DataFrame(clf.predict_proba(train[top_fs_vars]))[1]\n",
    "accuracy      = accuracy_score(train['target'], predictions)\n",
    "auc           = roc_auc_score(np.array(train['target']),np.array(probabilities))\n",
    "print(\"Train completed.\")\n",
    "result['decisiontree'] = {\"Train_Accuracy\":accuracy,\"Train_AUC\":auc}\n",
    "train_perf = pd.DataFrame(result).transpose()\n",
    "\n",
    "#Test\n",
    "result = {}\n",
    "predictions   = clf.predict(test[top_fs_vars])\n",
    "probabilities = pd.DataFrame(clf.predict_proba(test[top_fs_vars]))[1]\n",
    "accuracy      = accuracy_score(test['target'], predictions)\n",
    "auc           = roc_auc_score(np.array(test['target']),np.array(probabilities))\n",
    "print(\"Test completed.\")\n",
    "result['decisiontree'] = {\"Test_Accuracy\":accuracy,\"Test_AUC\":auc}\n",
    "test_perf = pd.DataFrame(result).transpose()\n",
    "\n",
    "#Compare Train and Test\n",
    "perf_clf = train_perf.merge(test_perf, left_index=True, right_index=True)\n",
    "perf_clf"
   ]
  },
  {
   "cell_type": "markdown",
   "metadata": {},
   "source": [
    "#### 4.4 Random Forest"
   ]
  },
  {
   "cell_type": "code",
   "execution_count": 35,
   "metadata": {},
   "outputs": [
    {
     "name": "stdout",
     "output_type": "stream",
     "text": [
      "Accuracy: 0.810 (0.003)\n"
     ]
    }
   ],
   "source": [
    "param = {'bootstrap': [True],\n",
    " 'max_depth': [5, 10],\n",
    " 'min_samples_leaf': [1, 2, 4],\n",
    " 'min_samples_split': [2, 5, 10],\n",
    " 'n_estimators': [400]}\n",
    "#setup cross validation\n",
    "cv = RepeatedStratifiedKFold(n_splits=5, n_repeats=3)\n",
    "#Grid Search\n",
    "rf_random = RandomizedSearchCV(RandomForestClassifier(), param, cv=3)\n",
    "#Cross-validate model\n",
    "scores = cross_val_score(rf_random, train[top_fs_vars], train['target'], scoring='accuracy', cv=cv, n_jobs=-1)\n",
    "# report performance\n",
    "print('Accuracy: %.3f (%.3f)' % (np.mean(scores), np.std(scores)))"
   ]
  },
  {
   "cell_type": "code",
   "execution_count": 37,
   "metadata": {},
   "outputs": [
    {
     "name": "stdout",
     "output_type": "stream",
     "text": [
      "Mean Accuracy: 0.810\n",
      "Config: {'n_estimators': 400, 'min_samples_split': 10, 'min_samples_leaf': 1, 'max_depth': 10, 'bootstrap': True}\n"
     ]
    }
   ],
   "source": [
    "results = rf_random.fit(train[top_fs_vars], np.array(train['target']).ravel())\n",
    "# summarize\n",
    "print('Mean Accuracy: %.3f' % results.best_score_)\n",
    "print('Config: %s' % results.best_params_)"
   ]
  },
  {
   "cell_type": "code",
   "execution_count": 28,
   "metadata": {},
   "outputs": [],
   "source": [
    "rf = RandomForestClassifier(n_estimators= 400, min_samples_split = 10, min_samples_leaf = 1, max_depth = 10, bootstrap = True).fit(train[top_fs_vars], train['target'])"
   ]
  },
  {
   "cell_type": "code",
   "execution_count": 29,
   "metadata": {},
   "outputs": [
    {
     "name": "stdout",
     "output_type": "stream",
     "text": [
      "Train completed.\n",
      "Test completed.\n"
     ]
    },
    {
     "data": {
      "text/html": [
       "<div>\n",
       "<style scoped>\n",
       "    .dataframe tbody tr th:only-of-type {\n",
       "        vertical-align: middle;\n",
       "    }\n",
       "\n",
       "    .dataframe tbody tr th {\n",
       "        vertical-align: top;\n",
       "    }\n",
       "\n",
       "    .dataframe thead th {\n",
       "        text-align: right;\n",
       "    }\n",
       "</style>\n",
       "<table border=\"1\" class=\"dataframe\">\n",
       "  <thead>\n",
       "    <tr style=\"text-align: right;\">\n",
       "      <th></th>\n",
       "      <th>Train_AUC</th>\n",
       "      <th>Train_Accuracy</th>\n",
       "      <th>Test_AUC</th>\n",
       "      <th>Test_Accuracy</th>\n",
       "    </tr>\n",
       "  </thead>\n",
       "  <tbody>\n",
       "    <tr>\n",
       "      <th>randomforest</th>\n",
       "      <td>0.861502</td>\n",
       "      <td>0.844562</td>\n",
       "      <td>0.771493</td>\n",
       "      <td>0.8145</td>\n",
       "    </tr>\n",
       "  </tbody>\n",
       "</table>\n",
       "</div>"
      ],
      "text/plain": [
       "              Train_AUC  Train_Accuracy  Test_AUC  Test_Accuracy\n",
       "randomforest   0.861502        0.844562  0.771493         0.8145"
      ]
     },
     "execution_count": 29,
     "metadata": {},
     "output_type": "execute_result"
    }
   ],
   "source": [
    "#Train\n",
    "result = {}\n",
    "predictions   = rf.predict(train[top_fs_vars])\n",
    "probabilities = pd.DataFrame(rf.predict_proba(train[top_fs_vars]))[1]\n",
    "accuracy      = accuracy_score(train['target'], predictions)\n",
    "auc           = roc_auc_score(np.array(train['target']),np.array(probabilities))\n",
    "print(\"Train completed.\")\n",
    "result['randomforest'] = {\"Train_Accuracy\":accuracy,\"Train_AUC\":auc}\n",
    "train_perf = pd.DataFrame(result).transpose()\n",
    "\n",
    "#Test\n",
    "result = {}\n",
    "predictions   = rf.predict(test[top_fs_vars])\n",
    "probabilities = pd.DataFrame(rf.predict_proba(test[top_fs_vars]))[1]\n",
    "accuracy      = accuracy_score(test['target'], predictions)\n",
    "auc           = roc_auc_score(np.array(test['target']),np.array(probabilities))\n",
    "print(\"Test completed.\")\n",
    "result['randomforest'] = {\"Test_Accuracy\":accuracy,\"Test_AUC\":auc}\n",
    "test_perf = pd.DataFrame(result).transpose()\n",
    "\n",
    "#Compare Train and Test\n",
    "perf_rf = train_perf.merge(test_perf, left_index=True, right_index=True)\n",
    "perf_rf"
   ]
  },
  {
   "cell_type": "markdown",
   "metadata": {},
   "source": [
    "#### 4.5 Neural Network"
   ]
  },
  {
   "cell_type": "code",
   "execution_count": 12,
   "metadata": {},
   "outputs": [
    {
     "name": "stdout",
     "output_type": "stream",
     "text": [
      "Accuracy: 0.808 (0.003)\n"
     ]
    }
   ],
   "source": [
    "grid = {\n",
    "    'solver': ['sgd', 'adam'],\n",
    "    'alpha': [0.0001, 0.001, 0.01]\n",
    "}\n",
    "\n",
    "cv = RepeatedStratifiedKFold(n_splits=5, n_repeats=3)\n",
    "\n",
    "nn_random = RandomizedSearchCV(MLPClassifier(), grid, n_jobs=-1, cv=3)\n",
    "# evaluate model\n",
    "scores = cross_val_score(nn_random, train[top_fs_vars], train['target'], scoring='accuracy', cv=cv, n_jobs=-1)\n",
    "# report performance\n",
    "print('Accuracy: %.3f (%.3f)' % (np.mean(scores), np.std(scores)))"
   ]
  },
  {
   "cell_type": "code",
   "execution_count": 13,
   "metadata": {},
   "outputs": [
    {
     "name": "stdout",
     "output_type": "stream",
     "text": [
      "Mean Accuracy: 0.808\n",
      "Config: {'solver': 'sgd', 'alpha': 0.01}\n"
     ]
    }
   ],
   "source": [
    "results = nn_random.fit(train[top_fs_vars], np.array(train['target']).ravel())\n",
    "# summarize\n",
    "print('Mean Accuracy: %.3f' % results.best_score_)\n",
    "print('Config: %s' % results.best_params_)"
   ]
  },
  {
   "cell_type": "code",
   "execution_count": 30,
   "metadata": {},
   "outputs": [],
   "source": [
    "nn = MLPClassifier(solver = 'sgd', alpha = 0.01).fit(train[top_fs_vars], train['target'])"
   ]
  },
  {
   "cell_type": "code",
   "execution_count": 31,
   "metadata": {},
   "outputs": [
    {
     "name": "stdout",
     "output_type": "stream",
     "text": [
      "Train completed.\n",
      "Test completed.\n"
     ]
    },
    {
     "data": {
      "text/html": [
       "<div>\n",
       "<style scoped>\n",
       "    .dataframe tbody tr th:only-of-type {\n",
       "        vertical-align: middle;\n",
       "    }\n",
       "\n",
       "    .dataframe tbody tr th {\n",
       "        vertical-align: top;\n",
       "    }\n",
       "\n",
       "    .dataframe thead th {\n",
       "        text-align: right;\n",
       "    }\n",
       "</style>\n",
       "<table border=\"1\" class=\"dataframe\">\n",
       "  <thead>\n",
       "    <tr style=\"text-align: right;\">\n",
       "      <th></th>\n",
       "      <th>Train_AUC</th>\n",
       "      <th>Train_Accuracy</th>\n",
       "      <th>Test_AUC</th>\n",
       "      <th>Test_Accuracy</th>\n",
       "    </tr>\n",
       "  </thead>\n",
       "  <tbody>\n",
       "    <tr>\n",
       "      <th>NeuralNetwork</th>\n",
       "      <td>0.861502</td>\n",
       "      <td>0.809813</td>\n",
       "      <td>0.771493</td>\n",
       "      <td>0.808</td>\n",
       "    </tr>\n",
       "  </tbody>\n",
       "</table>\n",
       "</div>"
      ],
      "text/plain": [
       "               Train_AUC  Train_Accuracy  Test_AUC  Test_Accuracy\n",
       "NeuralNetwork   0.861502        0.809813  0.771493          0.808"
      ]
     },
     "execution_count": 31,
     "metadata": {},
     "output_type": "execute_result"
    }
   ],
   "source": [
    "#Train\n",
    "result = {}\n",
    "predictions   = nn.predict(train[top_fs_vars])\n",
    "probabilities = pd.DataFrame(rf.predict_proba(train[top_fs_vars]))[1]\n",
    "accuracy      = accuracy_score(train['target'], predictions)\n",
    "auc           = roc_auc_score(np.array(train['target']),np.array(probabilities))\n",
    "print(\"Train completed.\")\n",
    "result['NeuralNetwork'] = {\"Train_Accuracy\":accuracy,\"Train_AUC\":auc}\n",
    "train_perf = pd.DataFrame(result).transpose()\n",
    "\n",
    "#Test\n",
    "result = {}\n",
    "predictions   = nn.predict(test[top_fs_vars])\n",
    "probabilities = pd.DataFrame(rf.predict_proba(test[top_fs_vars]))[1]\n",
    "accuracy      = accuracy_score(test['target'], predictions)\n",
    "auc           = roc_auc_score(np.array(test['target']),np.array(probabilities))\n",
    "print(\"Test completed.\")\n",
    "result['NeuralNetwork'] = {\"Test_Accuracy\":accuracy,\"Test_AUC\":auc}\n",
    "test_perf = pd.DataFrame(result).transpose()\n",
    "\n",
    "#Compare Train and Test\n",
    "perf_nn = train_perf.merge(test_perf, left_index=True, right_index=True)\n",
    "perf_nn"
   ]
  },
  {
   "cell_type": "markdown",
   "metadata": {},
   "source": [
    "Overview"
   ]
  },
  {
   "cell_type": "code",
   "execution_count": 32,
   "metadata": {},
   "outputs": [
    {
     "data": {
      "text/html": [
       "<div>\n",
       "<style scoped>\n",
       "    .dataframe tbody tr th:only-of-type {\n",
       "        vertical-align: middle;\n",
       "    }\n",
       "\n",
       "    .dataframe tbody tr th {\n",
       "        vertical-align: top;\n",
       "    }\n",
       "\n",
       "    .dataframe thead th {\n",
       "        text-align: right;\n",
       "    }\n",
       "</style>\n",
       "<table border=\"1\" class=\"dataframe\">\n",
       "  <thead>\n",
       "    <tr style=\"text-align: right;\">\n",
       "      <th></th>\n",
       "      <th>Train_AUC</th>\n",
       "      <th>Train_Accuracy</th>\n",
       "      <th>Test_AUC</th>\n",
       "      <th>Test_Accuracy</th>\n",
       "    </tr>\n",
       "  </thead>\n",
       "  <tbody>\n",
       "    <tr>\n",
       "      <th>randomforest</th>\n",
       "      <td>0.861502</td>\n",
       "      <td>0.844562</td>\n",
       "      <td>0.771493</td>\n",
       "      <td>0.81450</td>\n",
       "    </tr>\n",
       "    <tr>\n",
       "      <th>LDA</th>\n",
       "      <td>0.754352</td>\n",
       "      <td>0.810187</td>\n",
       "      <td>0.746116</td>\n",
       "      <td>0.81125</td>\n",
       "    </tr>\n",
       "    <tr>\n",
       "      <th>LogisticRegression</th>\n",
       "      <td>0.761012</td>\n",
       "      <td>0.809562</td>\n",
       "      <td>0.751847</td>\n",
       "      <td>0.81125</td>\n",
       "    </tr>\n",
       "    <tr>\n",
       "      <th>NeuralNetwork</th>\n",
       "      <td>0.861502</td>\n",
       "      <td>0.809813</td>\n",
       "      <td>0.771493</td>\n",
       "      <td>0.80800</td>\n",
       "    </tr>\n",
       "    <tr>\n",
       "      <th>decisiontree</th>\n",
       "      <td>0.767660</td>\n",
       "      <td>0.809125</td>\n",
       "      <td>0.746540</td>\n",
       "      <td>0.80650</td>\n",
       "    </tr>\n",
       "  </tbody>\n",
       "</table>\n",
       "</div>"
      ],
      "text/plain": [
       "                    Train_AUC  Train_Accuracy  Test_AUC  Test_Accuracy\n",
       "randomforest         0.861502        0.844562  0.771493        0.81450\n",
       "LDA                  0.754352        0.810187  0.746116        0.81125\n",
       "LogisticRegression   0.761012        0.809562  0.751847        0.81125\n",
       "NeuralNetwork        0.861502        0.809813  0.771493        0.80800\n",
       "decisiontree         0.767660        0.809125  0.746540        0.80650"
      ]
     },
     "execution_count": 32,
     "metadata": {},
     "output_type": "execute_result"
    }
   ],
   "source": [
    "performance = pd.concat([perf_clf, perf_rf, perf_lda, perf_lr,  perf_nn]).sort_values(by=\"Test_Accuracy\", ascending=False)\n",
    "performance"
   ]
  }
 ],
 "metadata": {
  "interpreter": {
   "hash": "81e0b57edd17c3833f38e5d4db6db81e2c0f982e51ee4890d9e870805c7d8a75"
  },
  "kernelspec": {
   "display_name": "Python 3.9.4 64-bit ('py': conda)",
   "name": "python3"
  },
  "language_info": {
   "codemirror_mode": {
    "name": "ipython",
    "version": 3
   },
   "file_extension": ".py",
   "mimetype": "text/x-python",
   "name": "python",
   "nbconvert_exporter": "python",
   "pygments_lexer": "ipython3",
   "version": "3.9.4"
  },
  "orig_nbformat": 4
 },
 "nbformat": 4,
 "nbformat_minor": 2
}
