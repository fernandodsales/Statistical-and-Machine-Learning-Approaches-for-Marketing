{
 "cells": [
  {
   "cell_type": "markdown",
   "id": "4c1b4478",
   "metadata": {},
   "source": [
    "## Introduction to Statistical Learning - Homework \n",
    "### Fernando Delgado"
   ]
  },
  {
   "cell_type": "markdown",
   "id": "1eccc05e",
   "metadata": {},
   "source": [
    "#### Resampling Methods"
   ]
  },
  {
   "cell_type": "markdown",
   "id": "68984ecc",
   "metadata": {},
   "source": [
    "We now review k-fold cross-validation.\n",
    "* (a) Explain how k-fold cross-validation is implemented.\n",
    "* (b) What are the advantages and disadvantages of k-fold crossvalidation relative to:\n",
    "    * i. The validation set approach?\n",
    "    * ii. LOOCV?"
   ]
  },
  {
   "cell_type": "code",
   "execution_count": 1,
   "id": "82d09ff9",
   "metadata": {},
   "outputs": [],
   "source": [
    "# a)\n",
    "\n",
    "## for the k-fold cross-validation we must randomly divide the set of observations into n groups (folds)\n",
    "## of aprox the same size. \n",
    "## The first group is for validation, and then we fit the method on the remaining n − 1 groups. \n",
    "## THen, we calculate the mean squared error on the observations in the remaining groups and repeat this n times.\n",
    "## For each repetition we treat a different group of observations as a validation set. \n",
    "## This results in n estimates of the test error."
   ]
  },
  {
   "cell_type": "code",
   "execution_count": 2,
   "id": "ba9b790f",
   "metadata": {},
   "outputs": [],
   "source": [
    "# b)\n",
    "\n",
    "## The validation set approach\n",
    "## Advantages: The validation set approach is easy to implement\n",
    "## Disadvantages: The validation MSE can have a high variability and you depend on the training data. \n",
    "\n",
    "## LOOCV\n",
    "## Advantages: LOOCV has a lower bias. performing LOOCV multiple times will always display the same results \n",
    "## because we always split based on 1 observation\n",
    "## Disadvantage: LOOCV requires a lot of computer power tom implement and it can be slow"
   ]
  },
  {
   "cell_type": "markdown",
   "id": "aa7bbfb7",
   "metadata": {},
   "source": [
    "We will now perform cross-validation on a simulated data set.\n",
    "* (a) Generate a simulated data set as follows:\n"
   ]
  },
  {
   "cell_type": "code",
   "execution_count": 3,
   "id": "deaa5b3c",
   "metadata": {},
   "outputs": [],
   "source": [
    "set.seed(1)\n",
    "y <- rnorm(100)\n",
    "x <- rnorm(100)\n",
    "y <- x - 2 * x^2 + rnorm(100)"
   ]
  },
  {
   "cell_type": "markdown",
   "id": "c0a8ccde",
   "metadata": {},
   "source": [
    "In this data set, what is n and what is p? Write out the model\n",
    "used to generate the data in equation form.\n",
    "* (b) Create a scatterplot of X against Y . Comment on what you find.\n"
   ]
  },
  {
   "cell_type": "code",
   "execution_count": 4,
   "id": "23a147d3",
   "metadata": {},
   "outputs": [
    {
     "data": {
      "image/png": "[encoded data removed]",
      "text/plain": [
       "plot without title"
      ]
     },
     "metadata": {
      "image/png": {
       "height": 420,
       "width": 420
      }
     },
     "output_type": "display_data"
    }
   ],
   "source": [
    "plot(x, y)"
   ]
  },
  {
   "cell_type": "markdown",
   "id": "35b0c7f9",
   "metadata": {},
   "source": [
    "* (c) Set a random seed, and then compute the LOOCV errors that result from fitting the following four models using least squares:\n",
    "m\n",
    "    * i. Y = β0 + β1X + \u0003\n",
    "    * ii. Y = β0 + β1X + β2X2 + \u0003\n",
    "    * iii. Y = β0 + β1X + β2X2 + β3X3 + \u0003\n",
    "    * iv. Y = β0 + β1X + β2X2 + β3X3 + β4X4 + \u0003."
   ]
  },
  {
   "cell_type": "code",
   "execution_count": 5,
   "id": "2b84298b",
   "metadata": {},
   "outputs": [
    {
     "data": {
      "text/html": [
       "5.89097855988842"
      ],
      "text/latex": [
       "5.89097855988842"
      ],
      "text/markdown": [
       "5.89097855988842"
      ],
      "text/plain": [
       "[1] 5.890979"
      ]
     },
     "metadata": {},
     "output_type": "display_data"
    }
   ],
   "source": [
    "library(boot)\n",
    "set.seed(123)\n",
    "\n",
    "#1)\n",
    "df <- data.frame(x, y)\n",
    "fit.glm.1 <- glm(y ~ x)\n",
    "cv.glm(df, fit.glm.1)$delta[1]"
   ]
  },
  {
   "cell_type": "code",
   "execution_count": 6,
   "id": "6a2a6a37",
   "metadata": {},
   "outputs": [
    {
     "data": {
      "text/html": [
       "1.0865955642745"
      ],
      "text/latex": [
       "1.0865955642745"
      ],
      "text/markdown": [
       "1.0865955642745"
      ],
      "text/plain": [
       "[1] 1.086596"
      ]
     },
     "metadata": {},
     "output_type": "display_data"
    }
   ],
   "source": [
    "#2)\n",
    "fit.glm.2 <- glm(y ~ poly(x, 2))\n",
    "cv.glm(df, fit.glm.2)$delta[1]"
   ]
  },
  {
   "cell_type": "code",
   "execution_count": 7,
   "id": "bffe3519",
   "metadata": {},
   "outputs": [
    {
     "data": {
      "text/html": [
       "1.10258509387339"
      ],
      "text/latex": [
       "1.10258509387339"
      ],
      "text/markdown": [
       "1.10258509387339"
      ],
      "text/plain": [
       "[1] 1.102585"
      ]
     },
     "metadata": {},
     "output_type": "display_data"
    }
   ],
   "source": [
    "#3)\n",
    "fit.glm.3 <- glm(y ~ poly(x, 3))\n",
    "cv.glm(df, fit.glm.3)$delta[1]"
   ]
  },
  {
   "cell_type": "code",
   "execution_count": 8,
   "id": "fc9999fd",
   "metadata": {},
   "outputs": [
    {
     "data": {
      "text/html": [
       "1.11477226814507"
      ],
      "text/latex": [
       "1.11477226814507"
      ],
      "text/markdown": [
       "1.11477226814507"
      ],
      "text/plain": [
       "[1] 1.114772"
      ]
     },
     "metadata": {},
     "output_type": "display_data"
    }
   ],
   "source": [
    "#4) \n",
    "fit.glm.4 <- glm(y ~ poly(x, 4))\n",
    "cv.glm(df, fit.glm.4)$delta[1]"
   ]
  },
  {
   "cell_type": "markdown",
   "id": "028e0930",
   "metadata": {},
   "source": [
    "Note you may find it helpful to use the data.frame() function\n",
    "to create a single data set containing both X and Y .\n",
    "* (d) Repeat (c) using another random seed, and report your results. Are your results the same as what you got in (c)? Why?\n"
   ]
  },
  {
   "cell_type": "code",
   "execution_count": 9,
   "id": "e4b47d60",
   "metadata": {},
   "outputs": [
    {
     "data": {
      "text/html": [
       "5.89097855988843"
      ],
      "text/latex": [
       "5.89097855988843"
      ],
      "text/markdown": [
       "5.89097855988843"
      ],
      "text/plain": [
       "[1] 5.890979"
      ]
     },
     "metadata": {},
     "output_type": "display_data"
    },
    {
     "data": {
      "text/html": [
       "1.0865955642745"
      ],
      "text/latex": [
       "1.0865955642745"
      ],
      "text/markdown": [
       "1.0865955642745"
      ],
      "text/plain": [
       "[1] 1.086596"
      ]
     },
     "metadata": {},
     "output_type": "display_data"
    },
    {
     "data": {
      "text/html": [
       "1.10258509387339"
      ],
      "text/latex": [
       "1.10258509387339"
      ],
      "text/markdown": [
       "1.10258509387339"
      ],
      "text/plain": [
       "[1] 1.102585"
      ]
     },
     "metadata": {},
     "output_type": "display_data"
    },
    {
     "data": {
      "text/html": [
       "1.11477226814507"
      ],
      "text/latex": [
       "1.11477226814507"
      ],
      "text/markdown": [
       "1.11477226814507"
      ],
      "text/plain": [
       "[1] 1.114772"
      ]
     },
     "metadata": {},
     "output_type": "display_data"
    }
   ],
   "source": [
    "set.seed(6)\n",
    "\n",
    "#1)\n",
    "df <- data.frame(x, y)\n",
    "fit.glm.1 <- glm(y ~ x)\n",
    "cv.glm(df, fit.glm.1)$delta[1]\n",
    "\n",
    "#2)\n",
    "fit.glm.2 <- glm(y ~ poly(x, 2))\n",
    "cv.glm(df, fit.glm.2)$delta[1]\n",
    "\n",
    "#3)\n",
    "fit.glm.3 <- glm(y ~ poly(x, 3))\n",
    "cv.glm(df, fit.glm.3)$delta[1]\n",
    "\n",
    "#4) \n",
    "fit.glm.4 <- glm(y ~ poly(x, 4))\n",
    "cv.glm(df, fit.glm.4)$delta[1]"
   ]
  },
  {
   "cell_type": "code",
   "execution_count": 10,
   "id": "f31814fc",
   "metadata": {},
   "outputs": [],
   "source": [
    "# The results are the same because LOOCV evaluates n folds of 1 obs"
   ]
  },
  {
   "cell_type": "markdown",
   "id": "486e4277",
   "metadata": {},
   "source": [
    "* (e) Which of the models in (c) had the smallest LOOCV error? Is this what you expected? Explain your answer.\n"
   ]
  },
  {
   "cell_type": "code",
   "execution_count": 11,
   "id": "4c1e6a3a",
   "metadata": {},
   "outputs": [],
   "source": [
    "# We observe the second one is the smallest which could be due to the plot observed in b) being a parabolla"
   ]
  },
  {
   "cell_type": "markdown",
   "id": "cce1b03c",
   "metadata": {},
   "source": [
    "* (f) Comment on the statistical significance of the coefficient estimates that results from fitting each of the models in (c) using least squares. Do these results agree with the conclusions drawn based on the cross-validation results?"
   ]
  },
  {
   "cell_type": "code",
   "execution_count": 12,
   "id": "506aa75a",
   "metadata": {
    "scrolled": true
   },
   "outputs": [
    {
     "data": {
      "text/plain": [
       "\n",
       "Call:\n",
       "glm(formula = y ~ poly(x, 4))\n",
       "\n",
       "Deviance Residuals: \n",
       "    Min       1Q   Median       3Q      Max  \n",
       "-2.8914  -0.5244   0.0749   0.5932   2.7796  \n",
       "\n",
       "Coefficients:\n",
       "            Estimate Std. Error t value Pr(>|t|)    \n",
       "(Intercept)  -1.8277     0.1041 -17.549   <2e-16 ***\n",
       "poly(x, 4)1   2.3164     1.0415   2.224   0.0285 *  \n",
       "poly(x, 4)2 -21.0586     1.0415 -20.220   <2e-16 ***\n",
       "poly(x, 4)3  -0.3048     1.0415  -0.293   0.7704    \n",
       "poly(x, 4)4  -0.4926     1.0415  -0.473   0.6373    \n",
       "---\n",
       "Signif. codes:  0 '***' 0.001 '**' 0.01 '*' 0.05 '.' 0.1 ' ' 1\n",
       "\n",
       "(Dispersion parameter for gaussian family taken to be 1.084654)\n",
       "\n",
       "    Null deviance: 552.21  on 99  degrees of freedom\n",
       "Residual deviance: 103.04  on 95  degrees of freedom\n",
       "AIC: 298.78\n",
       "\n",
       "Number of Fisher Scoring iterations: 2\n"
      ]
     },
     "metadata": {},
     "output_type": "display_data"
    }
   ],
   "source": [
    "summary(fit.glm.4)"
   ]
  },
  {
   "cell_type": "code",
   "execution_count": 13,
   "id": "70009a2f",
   "metadata": {},
   "outputs": [],
   "source": [
    "# The only significant p-values are the intercept, the 1st and the second.\n",
    "# This makes sense with the previous results which were the lowest for the second model."
   ]
  },
  {
   "cell_type": "markdown",
   "id": "b127a55a",
   "metadata": {},
   "source": [
    "#### Linear Model Selection and Regularization"
   ]
  },
  {
   "cell_type": "markdown",
   "id": "eff96bd3",
   "metadata": {},
   "source": [
    "We perform best subset, forward stepwise, and backward stepwise selection on a single data set. For each approach, we obtain p + 1 models, containing 0, 1, 2, . . . , p predictors. Explain your answers:\n",
    "* (a) Which of the three models with k predictors has the smallest training RSS?\n"
   ]
  },
  {
   "cell_type": "code",
   "execution_count": 14,
   "id": "12b5403e",
   "metadata": {},
   "outputs": [],
   "source": [
    "# The smallest training RSS will be for the best subset approach\n",
    "# because the model will be chosen after considering all the possible k parameters for best subset. \n",
    "# However, This does not apply for either backward stepwise or forward stepwise."
   ]
  },
  {
   "cell_type": "markdown",
   "id": "6193e609",
   "metadata": {},
   "source": [
    "* (b) Which of the three models with k predictors has the smallest test RSS?\n"
   ]
  },
  {
   "cell_type": "code",
   "execution_count": 15,
   "id": "bead1da1",
   "metadata": {},
   "outputs": [],
   "source": [
    "## The best subset approach will select a model with k predictors from all \n",
    "## possible combinations for k predictors with training RSS. \n",
    "## For forward and backward stepwise approach this might not be nessassrily true for test RSS.\n",
    "\n",
    "## thus, there is no way of knowing"
   ]
  },
  {
   "cell_type": "markdown",
   "id": "2dc31b53",
   "metadata": {},
   "source": [
    "* (c) True or False:\n",
    "    * i. The predictors in the k-variable model identified by forward stepwise are a subset of the predictors in the (k+1)-variable model identified by forward stepwise selection.\n",
    "    "
   ]
  },
  {
   "cell_type": "code",
   "execution_count": 16,
   "id": "0b97b7dd",
   "metadata": {},
   "outputs": [],
   "source": [
    "# TRUE"
   ]
  },
  {
   "cell_type": "markdown",
   "id": "cf1b71b4",
   "metadata": {},
   "source": [
    "* ii. The predictors in the k-variable model identified by backward stepwise are a subset of the predictors in the (k + 1)- variable model identified by backward stepwise selection.\n",
    "    "
   ]
  },
  {
   "cell_type": "code",
   "execution_count": 17,
   "id": "ca2d66b6",
   "metadata": {},
   "outputs": [],
   "source": [
    "# TRUE"
   ]
  },
  {
   "cell_type": "markdown",
   "id": "6905c518",
   "metadata": {},
   "source": [
    "* iii. The predictors in the k-variable model identified by backward stepwise are a subset of the predictors in the (k + 1)- variable model identified by forward stepwise selection.\n",
    "    "
   ]
  },
  {
   "cell_type": "code",
   "execution_count": 18,
   "id": "59f9961b",
   "metadata": {},
   "outputs": [],
   "source": [
    "# FALSE"
   ]
  },
  {
   "cell_type": "markdown",
   "id": "b34c4af1",
   "metadata": {},
   "source": [
    "* iv. The predictors in the k-variable model identified by forward stepwise are a subset of the predictors in the (k+1)-variable model identified by backward stepwise selection.\n",
    "    "
   ]
  },
  {
   "cell_type": "code",
   "execution_count": 19,
   "id": "981f11af",
   "metadata": {},
   "outputs": [],
   "source": [
    "# FALSE"
   ]
  },
  {
   "cell_type": "markdown",
   "id": "a205f171",
   "metadata": {},
   "source": [
    "* v. The predictors in the k-variable model identified by best subset are a subset of the predictors in the (k + 1)-variable model identified by best subset selection."
   ]
  },
  {
   "cell_type": "code",
   "execution_count": 20,
   "id": "0b48a459",
   "metadata": {},
   "outputs": [],
   "source": [
    "# FALSE"
   ]
  },
  {
   "cell_type": "markdown",
   "id": "7203c673",
   "metadata": {},
   "source": [
    "In this exercise, we will predict the number of applications received\n",
    "using the other variables in the College data set.\n",
    "* (a) Split the data set into a training set and a test set."
   ]
  },
  {
   "cell_type": "code",
   "execution_count": 21,
   "id": "d01e346a",
   "metadata": {},
   "outputs": [],
   "source": [
    "library(ISLR)\n",
    "attach(College)\n",
    "set.seed(123)\n",
    "\n",
    "#Randomly splitting data into trainig and test set with 70%/30%\n",
    "subset <- sample(nrow(College),nrow(College)*0.7)\n",
    "train <- College[subset,]\n",
    "test <- College[-subset,]"
   ]
  },
  {
   "cell_type": "markdown",
   "id": "b2cc33e5",
   "metadata": {},
   "source": [
    "* (b) Fit a linear model using least squares on the training set, and report the test error obtained.\n"
   ]
  },
  {
   "cell_type": "code",
   "execution_count": 22,
   "id": "eaa43d9f",
   "metadata": {},
   "outputs": [
    {
     "data": {
      "text/plain": [
       "\n",
       "Call:\n",
       "lm(formula = Apps ~ ., data = train)\n",
       "\n",
       "Residuals:\n",
       "    Min      1Q  Median      3Q     Max \n",
       "-5090.2  -445.7   -32.9   371.5  6934.7 \n",
       "\n",
       "Coefficients:\n",
       "              Estimate Std. Error t value Pr(>|t|)    \n",
       "(Intercept) -3.118e+02  5.315e+02  -0.587 0.557673    \n",
       "PrivateYes  -5.306e+02  1.838e+02  -2.887 0.004055 ** \n",
       "Accept       1.677e+00  5.130e-02  32.696  < 2e-16 ***\n",
       "Enroll      -1.345e+00  2.503e-01  -5.373 1.17e-07 ***\n",
       "Top10perc    6.342e+01  7.056e+00   8.989  < 2e-16 ***\n",
       "Top25perc   -2.215e+01  5.752e+00  -3.851 0.000132 ***\n",
       "F.Undergrad  1.065e-01  4.804e-02   2.217 0.027061 *  \n",
       "P.Undergrad  7.098e-03  5.427e-02   0.131 0.896005    \n",
       "Outstate    -9.784e-02  2.492e-02  -3.927 9.77e-05 ***\n",
       "Room.Board   1.357e-01  6.385e-02   2.125 0.034068 *  \n",
       "Books       -2.035e-01  3.352e-01  -0.607 0.544074    \n",
       "Personal     1.461e-01  9.088e-02   1.608 0.108475    \n",
       "PhD         -9.598e+00  5.962e+00  -1.610 0.108033    \n",
       "Terminal    -7.469e-01  6.563e+00  -0.114 0.909426    \n",
       "S.F.Ratio    1.392e+01  1.697e+01   0.820 0.412433    \n",
       "perc.alumni -1.081e+00  5.514e+00  -0.196 0.844605    \n",
       "Expend       7.559e-02  1.499e-02   5.041 6.39e-07 ***\n",
       "Grad.Rate    1.039e+01  3.884e+00   2.675 0.007716 ** \n",
       "---\n",
       "Signif. codes:  0 '***' 0.001 '**' 0.01 '*' 0.05 '.' 0.1 ' ' 1\n",
       "\n",
       "Residual standard error: 1143 on 525 degrees of freedom\n",
       "Multiple R-squared:  0.9249,\tAdjusted R-squared:  0.9225 \n",
       "F-statistic: 380.4 on 17 and 525 DF,  p-value: < 2.2e-16\n"
      ]
     },
     "metadata": {},
     "output_type": "display_data"
    }
   ],
   "source": [
    "ls.full<-lm(Apps~.,data=train)\n",
    "summary(ls.full)"
   ]
  },
  {
   "cell_type": "code",
   "execution_count": 23,
   "id": "9a72f783",
   "metadata": {},
   "outputs": [
    {
     "data": {
      "text/html": [
       "680349.549952722"
      ],
      "text/latex": [
       "680349.549952722"
      ],
      "text/markdown": [
       "680349.549952722"
      ],
      "text/plain": [
       "[1] 680349.5"
      ]
     },
     "metadata": {},
     "output_type": "display_data"
    }
   ],
   "source": [
    "predicted.apps <- predict(ls.full,test)\n",
    "testerror <- mean((test$Apps-predicted.apps)^2)\n",
    "testerror"
   ]
  },
  {
   "cell_type": "markdown",
   "id": "9000395f",
   "metadata": {},
   "source": [
    "* (c) Fit a ridge regression model on the training set, with λ chosen by cross-validation. Report the test error obtained."
   ]
  },
  {
   "cell_type": "code",
   "execution_count": 24,
   "id": "538713a6",
   "metadata": {
    "scrolled": true
   },
   "outputs": [
    {
     "name": "stderr",
     "output_type": "stream",
     "text": [
      "Loading required package: Matrix\n",
      "\n",
      "Loaded glmnet 4.1-2\n",
      "\n"
     ]
    },
    {
     "data": {
      "text/html": [
       "0.01"
      ],
      "text/latex": [
       "0.01"
      ],
      "text/markdown": [
       "0.01"
      ],
      "text/plain": [
       "[1] 0.01"
      ]
     },
     "metadata": {},
     "output_type": "display_data"
    }
   ],
   "source": [
    "#create matrix\n",
    "train.mat<-model.matrix(Apps~.,data=train)\n",
    "test.mat<-model.matrix(Apps~.,data=test)\n",
    "\n",
    "#defining grid \n",
    "grid<-10^seq(4,-2,length=100)\n",
    "\n",
    "#ridge regression model\n",
    "library(glmnet)\n",
    "ridge<-glmnet(train.mat,train$Apps,alpha=0,lambda=grid,thresh = 1e-12)\n",
    "#doing cross validation on model\n",
    "cv.ridge<-cv.glmnet(train.mat,train$Apps,alpha=0,lambda=grid,thresh=1e-12)\n",
    "\n",
    "#finding the lambda for which cv error is minimum on training data\n",
    "bestlam.ridge<-cv.ridge$lambda.min\n",
    "bestlam.ridge"
   ]
  },
  {
   "cell_type": "code",
   "execution_count": 27,
   "id": "b949580b",
   "metadata": {},
   "outputs": [
    {
     "data": {
      "text/html": [
       "680303.984827689"
      ],
      "text/latex": [
       "680303.984827689"
      ],
      "text/markdown": [
       "680303.984827689"
      ],
      "text/plain": [
       "[1] 680304"
      ]
     },
     "metadata": {},
     "output_type": "display_data"
    }
   ],
   "source": [
    "pred.newridge<-predict(ridge,s=bestlam.ridge,newx =test.mat)\n",
    "\n",
    "#MSE\n",
    "mean((test$Apps-pred.newridge)^2)"
   ]
  },
  {
   "cell_type": "markdown",
   "id": "e3c1897c",
   "metadata": {},
   "source": [
    "* (d) Fit a lasso model on the training set, with λ chosen by crossvalidation. Report the test error obtained, along with the number of non-zero coefficient estimates."
   ]
  },
  {
   "cell_type": "code",
   "execution_count": 30,
   "id": "b49e588a",
   "metadata": {},
   "outputs": [
    {
     "data": {
      "text/html": [
       "0.01"
      ],
      "text/latex": [
       "0.01"
      ],
      "text/markdown": [
       "0.01"
      ],
      "text/plain": [
       "[1] 0.01"
      ]
     },
     "metadata": {},
     "output_type": "display_data"
    }
   ],
   "source": [
    "#lasso\n",
    "lasso<-glmnet(train.mat,train$Apps,alpha=1,lambda=grid,thresh = 1e-12)\n",
    "\n",
    "#cross vlaidation\n",
    "cv.lasso<-cv.glmnet(train.mat,train$Apps,alpha=1,lambda=grid,thresh=1e-12)\n",
    "\n",
    "#find best lambda\n",
    "bestlam.lasso<-cv.lasso$lambda.min\n",
    "bestlam.lasso"
   ]
  },
  {
   "cell_type": "code",
   "execution_count": 32,
   "id": "7debdfbd",
   "metadata": {},
   "outputs": [
    {
     "data": {
      "text/html": [
       "680231.606830961"
      ],
      "text/latex": [
       "680231.606830961"
      ],
      "text/markdown": [
       "680231.606830961"
      ],
      "text/plain": [
       "[1] 680231.6"
      ]
     },
     "metadata": {},
     "output_type": "display_data"
    }
   ],
   "source": [
    "#predict with lambda\n",
    "pred.newlasso<-predict(lasso,s=bestlam.lasso,newx =test.mat)\n",
    "\n",
    "#MSE\n",
    "mean((test$Apps-pred.newlasso)^2)"
   ]
  },
  {
   "cell_type": "code",
   "execution_count": 36,
   "id": "c59464c6",
   "metadata": {},
   "outputs": [
    {
     "data": {
      "text/plain": [
       "19 x 1 sparse Matrix of class \"dgCMatrix\"\n",
       "                       s1\n",
       "(Intercept) -3.119599e+02\n",
       "(Intercept)  .           \n",
       "PrivateYes  -5.306365e+02\n",
       "Accept       1.677124e+00\n",
       "Enroll      -1.344497e+00\n",
       "Top10perc    6.341209e+01\n",
       "Top25perc   -2.214441e+01\n",
       "F.Undergrad  1.064107e-01\n",
       "P.Undergrad  7.114242e-03\n",
       "Outstate    -9.782167e-02\n",
       "Room.Board   1.356616e-01\n",
       "Books       -2.033689e-01\n",
       "Personal     1.461040e-01\n",
       "PhD         -9.597043e+00\n",
       "Terminal    -7.472047e-01\n",
       "S.F.Ratio    1.391879e+01\n",
       "perc.alumni -1.081542e+00\n",
       "Expend       7.558538e-02\n",
       "Grad.Rate    1.038614e+01"
      ]
     },
     "metadata": {},
     "output_type": "display_data"
    }
   ],
   "source": [
    "#coefficients\n",
    "predict(lasso,s=bestlam.lasso,type=\"coefficients\")"
   ]
  },
  {
   "cell_type": "markdown",
   "id": "24647102",
   "metadata": {},
   "source": [
    "* (e) Fit a PCR model on the training set, with M chosen by crossvalidation. Report the test error obtained, along with the value of M selected by cross-validation."
   ]
  },
  {
   "cell_type": "code",
   "execution_count": 41,
   "id": "ac67cd85",
   "metadata": {},
   "outputs": [
    {
     "data": {
      "text/html": [
       "680349.549952722"
      ],
      "text/latex": [
       "680349.549952722"
      ],
      "text/markdown": [
       "680349.549952722"
      ],
      "text/plain": [
       "[1] 680349.5"
      ]
     },
     "metadata": {},
     "output_type": "display_data"
    }
   ],
   "source": [
    "pcrmodel <- pcr(Apps~.,data=train,scale=TRUE,validation=\"CV\")\n",
    "\n",
    "predict.pcr <- predict(pcrmodel,test,ncomp=17)\n",
    "mean((test$Apps-predict.pcr)^2)"
   ]
  },
  {
   "cell_type": "markdown",
   "id": "46983df3",
   "metadata": {},
   "source": [
    "* (f) Fit a PLS model on the training set, with M chosen by crossvalidation. Report the test error obtained, along with the value of M selected by cross-validation."
   ]
  },
  {
   "cell_type": "code",
   "execution_count": 43,
   "id": "4531d5e4",
   "metadata": {},
   "outputs": [
    {
     "data": {
      "text/html": [
       "661659.179278466"
      ],
      "text/latex": [
       "661659.179278466"
      ],
      "text/markdown": [
       "661659.179278466"
      ],
      "text/plain": [
       "[1] 661659.2"
      ]
     },
     "metadata": {},
     "output_type": "display_data"
    }
   ],
   "source": [
    "plsrmodel<-plsr(Apps~.,data=train,scale=TRUE,validation=\"CV\")\n",
    "\n",
    "predict.plsr<-predict(plsrmodel,test,ncomp=10)\n",
    "mean((test$Apps-predict.plsr)^2)"
   ]
  },
  {
   "cell_type": "markdown",
   "id": "c63dc212",
   "metadata": {},
   "source": [
    "* (g) Comment on the results obtained. How accurately can we predict the number of college applications received? Is there much difference among the test errors resulting from these five approaches?"
   ]
  },
  {
   "cell_type": "code",
   "execution_count": 45,
   "id": "7ac19139",
   "metadata": {},
   "outputs": [],
   "source": [
    "#with R square statistic we can display the accuracy of our predictions:\n",
    "\n",
    "#Least Square model\n",
    "test.avg <- mean(test$Apps)\n",
    "lm.r2 <- 1 - mean((predicted.apps - test$Apps)^2) / mean((test.avg - test$Apps)^2)\n",
    "\n",
    "#Ridge model\n",
    "ridge.r2 <- 1 - mean((pred.newridge - test$Apps)^2) / mean((test.avg - test$Apps)^2)\n",
    "\n",
    "#Lasso model\n",
    "lasso.r2 <- 1 - mean((pred.newlasso - test$Apps)^2) / mean((test.avg - test$Apps)^2)\n",
    "\n",
    "#PCR model\n",
    "pcr.r2 <- 1 - mean((predict.pcr - test$Apps)^2) / mean((test.avg - test$Apps)^2)\n",
    "\n",
    "#PLS model\n",
    "pls.r2 <- 1 - mean((predict.plsr - test$Apps)^2) / mean((test.avg - test$Apps)^2)"
   ]
  },
  {
   "cell_type": "code",
   "execution_count": 51,
   "id": "224b1bae",
   "metadata": {},
   "outputs": [
    {
     "name": "stdout",
     "output_type": "stream",
     "text": [
      "[1] \"Least Squares: 0.935583040348704\"\n",
      "[1] \"Ridge Model: 0.935587354552808\"\n",
      "[1] \"Lasso: 0.935594207457311\"\n",
      "[1] \"PCR: 0.935583040348704\"\n",
      "[1] \"PLS: 0.937352684869928\"\n"
     ]
    }
   ],
   "source": [
    "print (paste0(\"Least Squares: \", lm.r2))\n",
    "print (paste0(\"Ridge Model: \", ridge.r2))\n",
    "print (paste0(\"Lasso: \", lasso.r2))\n",
    "print (paste0(\"PCR: \", pcr.r2))\n",
    "print (paste0(\"PLS: \", pls.r2))"
   ]
  },
  {
   "cell_type": "code",
   "execution_count": 52,
   "id": "b6f7e454",
   "metadata": {},
   "outputs": [],
   "source": [
    "# Lasso model predicts the highest R-Square even though all the models are similar.\n",
    "# This was expected since the lowest MSE was for Lasso"
   ]
  },
  {
   "cell_type": "markdown",
   "id": "feb43057",
   "metadata": {},
   "source": [
    "#### Moving Beyond Linearity"
   ]
  },
  {
   "cell_type": "markdown",
   "id": "f9f04229",
   "metadata": {},
   "source": [
    "This question uses the variables dis (the weighted mean of distances to five Boston employment centers) and nox (nitrogen oxides concentrationin parts per 10 million) from the Boston data. We will treat dis as the predictor and nox as the response.\n",
    "* a) Use the poly() function to fit a cubic polynomial regression to predict nox using dis. Report the regression output, and plot the resulting data and polynomial fits. 300 7. Moving Beyond Linearity"
   ]
  },
  {
   "cell_type": "code",
   "execution_count": 72,
   "id": "9763c73e",
   "metadata": {},
   "outputs": [],
   "source": [
    "#install.packages(\"leaps\")"
   ]
  },
  {
   "cell_type": "code",
   "execution_count": 75,
   "id": "e795eef4",
   "metadata": {},
   "outputs": [],
   "source": [
    "library(MASS)"
   ]
  },
  {
   "cell_type": "code",
   "execution_count": 76,
   "id": "6ebe3baf",
   "metadata": {
    "scrolled": false
   },
   "outputs": [
    {
     "data": {
      "text/plain": [
       "\n",
       "Call:\n",
       "lm(formula = nox ~ poly(dis, 3), data = Boston)\n",
       "\n",
       "Residuals:\n",
       "      Min        1Q    Median        3Q       Max \n",
       "-0.121130 -0.040619 -0.009738  0.023385  0.194904 \n",
       "\n",
       "Coefficients:\n",
       "               Estimate Std. Error t value Pr(>|t|)    \n",
       "(Intercept)    0.554695   0.002759 201.021  < 2e-16 ***\n",
       "poly(dis, 3)1 -2.003096   0.062071 -32.271  < 2e-16 ***\n",
       "poly(dis, 3)2  0.856330   0.062071  13.796  < 2e-16 ***\n",
       "poly(dis, 3)3 -0.318049   0.062071  -5.124 4.27e-07 ***\n",
       "---\n",
       "Signif. codes:  0 '***' 0.001 '**' 0.01 '*' 0.05 '.' 0.1 ' ' 1\n",
       "\n",
       "Residual standard error: 0.06207 on 502 degrees of freedom\n",
       "Multiple R-squared:  0.7148,\tAdjusted R-squared:  0.7131 \n",
       "F-statistic: 419.3 on 3 and 502 DF,  p-value: < 2.2e-16\n"
      ]
     },
     "metadata": {},
     "output_type": "display_data"
    }
   ],
   "source": [
    "set.seed(123)\n",
    "\n",
    "fit <- lm(nox ~ poly(dis, 3), data = Boston)\n",
    "summary(fit)"
   ]
  },
  {
   "cell_type": "code",
   "execution_count": 82,
   "id": "e6872b8b",
   "metadata": {},
   "outputs": [
    {
     "data": {
      "image/png": "[encoded data removed]",
      "text/plain": [
       "plot without title"
      ]
     },
     "metadata": {
      "image/png": {
       "height": 420,
       "width": 420
      }
     },
     "output_type": "display_data"
    }
   ],
   "source": [
    "dis.grid <- seq(min(Boston$dis), max(Boston$dis), by = 0.1)\n",
    "\n",
    "#Prediction\n",
    "preds <- predict(fit, list(dis = dis.grid), se = TRUE)\n",
    "\n",
    "se.bands <- cbind(preds$fit + 2* preds$se.fit, preds$fit - 2 * preds$se.fit)\n",
    "\n",
    "#Plot\n",
    "plot(Boston$dis, Boston$nox)\n",
    "points(Boston$dis, fit$fitted.values, col = 'red')"
   ]
  },
  {
   "cell_type": "markdown",
   "id": "4c252447",
   "metadata": {},
   "source": [
    "* (b) Plot the polynomial fits for a range of different polynomial degrees (say, from 1 to 10), and report the associated residual sum of squares."
   ]
  },
  {
   "cell_type": "code",
   "execution_count": 84,
   "id": "28f67f64",
   "metadata": {},
   "outputs": [
    {
     "data": {
      "image/png": "[encoded data removed]",
      "text/plain": [
       "plot without title"
      ]
     },
     "metadata": {
      "image/png": {
       "height": 420,
       "width": 420
      }
     },
     "output_type": "display_data"
    }
   ],
   "source": [
    "#Residual sum of squares\n",
    "rss <- rep(NA, 10)\n",
    "\n",
    "#loop from 1 to 10\n",
    "for (i in 1:10) {\n",
    "  fit <- lm(nox ~ poly(dis, i), data = Boston)\n",
    "  rss[i] <- sum(fit$residuals ^ 2)\n",
    "}\n",
    "\n",
    "#plot\n",
    "plot(1:10, rss, type = 'l', xlab = \"Degree\", ylab = \"RSS\")"
   ]
  },
  {
   "cell_type": "markdown",
   "id": "ef7b016e",
   "metadata": {},
   "source": [
    "* (c) Perform cross-validation or another approach to select the optimal degree for the polynomial, and explain your results."
   ]
  },
  {
   "cell_type": "code",
   "execution_count": 87,
   "id": "fef606ea",
   "metadata": {},
   "outputs": [
    {
     "data": {
      "image/png": "[encoded data removed]",
      "text/plain": [
       "plot without title"
      ]
     },
     "metadata": {
      "image/png": {
       "height": 420,
       "width": 420
      }
     },
     "output_type": "display_data"
    }
   ],
   "source": [
    "#Test MSE\n",
    "testMSE <- rep(NA, 10)\n",
    "\n",
    "#loop fit 10 times\n",
    "for (i in 1:10) {\n",
    "  fit <- glm(nox ~ poly(dis, i), data = Boston)\n",
    "  testMSE[i] <- cv.glm(Boston, fit, K = 10)$delta[1]\n",
    "}\n",
    "\n",
    "#plot\n",
    "plot(1:10, testMSE, type = 'l', xlab = \"Degree\", ylab = \"Test MSE\")\n",
    "points(which.min(testMSE), testMSE[which.min(testMSE)])"
   ]
  },
  {
   "cell_type": "markdown",
   "id": "808ed68b",
   "metadata": {},
   "source": [
    "* (d) Use the bs() function to fit a regression spline to predict nox using dis. Report the output for the fit using four degrees of freedom. How did you choose the knots? Plot the resulting fit."
   ]
  },
  {
   "cell_type": "code",
   "execution_count": null,
   "id": "14e030dc",
   "metadata": {},
   "outputs": [],
   "source": []
  },
  {
   "cell_type": "markdown",
   "id": "8597b0b9",
   "metadata": {},
   "source": [
    "* (e) Now fit a regression spline for a range of degrees of freedom, and plot the resulting fits and report the resulting RSS. Describe the results obtained."
   ]
  },
  {
   "cell_type": "code",
   "execution_count": null,
   "id": "446d0818",
   "metadata": {},
   "outputs": [],
   "source": []
  },
  {
   "cell_type": "markdown",
   "id": "25194dbf",
   "metadata": {},
   "source": [
    "* (f) Perform cross-validation or another approach in order to selectthe best degrees of freedom for a regression spline on this data. Describe your results."
   ]
  },
  {
   "cell_type": "code",
   "execution_count": null,
   "id": "a0ee819f",
   "metadata": {},
   "outputs": [],
   "source": []
  },
  {
   "cell_type": "markdown",
   "id": "320bfeef",
   "metadata": {},
   "source": [
    "This question relates to the College data set.\n",
    "* (a) Split the data into a training set and a test set. Using out-of-state tuition as the response and the other variables as the predictors,perform forward stepwise selection on the training set in order to identify a satisfactory model that uses just a subset of the predictors.\n",
    "* (b) Fit a GAM on the training data, using out-of-state tuition as the response and the features selected in the previous step as the predictors. Plot the results, and explain your findings.\n",
    "* (c) Evaluate the model obtained on the test set, and explain the results obtained.\n",
    "* (d) For which variables, if any, is there evidence of a non-linear relationship with the response?"
   ]
  }
 ],
 "metadata": {
  "kernelspec": {
   "display_name": "R",
   "language": "R",
   "name": "ir"
  },
  "language_info": {
   "codemirror_mode": "r",
   "file_extension": ".r",
   "mimetype": "text/x-r-source",
   "name": "R",
   "pygments_lexer": "r",
   "version": "4.0.5"
  }
 },
 "nbformat": 4,
 "nbformat_minor": 5
}
