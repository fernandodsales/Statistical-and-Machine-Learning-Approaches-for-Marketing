{
 "cells": [
  {
   "cell_type": "markdown",
   "id": "2c6d3d57",
   "metadata": {},
   "source": [
    "# Tree Based Methods\n",
    "Fernando Delgado"
   ]
  },
  {
   "cell_type": "markdown",
   "id": "3c70cc1f",
   "metadata": {},
   "source": [
    "## Exercise 3"
   ]
  },
  {
   "cell_type": "markdown",
   "id": "f5844e96",
   "metadata": {},
   "source": [
    "Consider the Gini index, classification error, and entropy in a\n",
    "simple classification setting with two classes. Create a single plot\n",
    "that displays each of these quantities as a function of ˆpm1. The xaxis\n",
    "should display ˆpm1, ranging from 0 to 1, and the y-axis should\n",
    "display the value of the Gini index, classification error, and entropy.\n",
    "\n",
    "Hint: In a setting with two classes, ˆpm1 = 1− ˆpm2. You could make\n",
    "this plot by hand, but it will be much easier to make in R."
   ]
  },
  {
   "cell_type": "code",
   "execution_count": 1,
   "id": "1b7db03c",
   "metadata": {
    "scrolled": false
   },
   "outputs": [
    {
     "data": {
      "image/png": "[encoded data removed]",
      "text/plain": [
       "plot without title"
      ]
     },
     "metadata": {
      "image/png": {
       "height": 420,
       "width": 420
      }
     },
     "output_type": "display_data"
    }
   ],
   "source": [
    "p = seq(0, 1, 0.01)\n",
    "gini = p * (1 - p) * 2\n",
    "entropy = -(p * log(p) + (1 - p) * log(1 - p))\n",
    "class.err = 1 - pmax(p, 1 - p)\n",
    "\n",
    "#plot\n",
    "matplot(p, cbind(gini, entropy, class.err), col = c(\"pink\", \"black\", \"purple\"))"
   ]
  },
  {
   "cell_type": "markdown",
   "id": "5f6272c5",
   "metadata": {},
   "source": [
    "## Exercise 5"
   ]
  },
  {
   "cell_type": "markdown",
   "id": "7ab45fc7",
   "metadata": {},
   "source": [
    "Suppose we produce ten bootstrapped samples from a data set\n",
    "containing red and green classes. We then apply a classification tree\n",
    "to each bootstrapped sample and, for a specific value of X, produce\n",
    "10 estimates of P(Class is Red|X):"
   ]
  },
  {
   "cell_type": "markdown",
   "id": "87d3d5b4",
   "metadata": {},
   "source": [
    "0.1, 0.15, 0.2, 0.2, 0.55, 0.6, 0.6, 0.65, 0.7, and 0.75."
   ]
  },
  {
   "cell_type": "markdown",
   "id": "91346ef6",
   "metadata": {},
   "source": [
    "There are two common ways to combine these results together into a\n",
    "single class prediction. One is the majority vote approach discussed in\n",
    "this chapter. The second approach is to classify based on the average\n",
    "probability. In this example, what is the final classification under each\n",
    "of these two approaches?"
   ]
  },
  {
   "cell_type": "code",
   "execution_count": 2,
   "id": "57f43fc3",
   "metadata": {},
   "outputs": [],
   "source": [
    "p <- c(0.1, 0.15, 0.2, 0.2, 0.55, 0.6, 0.6, 0.65, 0.7, 0.75)"
   ]
  },
  {
   "cell_type": "code",
   "execution_count": 4,
   "id": "c2d7dce8",
   "metadata": {},
   "outputs": [
    {
     "data": {
      "text/html": [
       "'Red'"
      ],
      "text/latex": [
       "'Red'"
      ],
      "text/markdown": [
       "'Red'"
      ],
      "text/plain": [
       "[1] \"Red\""
      ]
     },
     "metadata": {},
     "output_type": "display_data"
    }
   ],
   "source": [
    "#Majority\n",
    "#Red\n",
    "red <- sum(p >= 0.5)\n",
    "\n",
    "#Green\n",
    "green <- sum(p < 0.5)\n",
    "\n",
    "ifelse(red > green, \"Red\", \"Green\")"
   ]
  },
  {
   "cell_type": "code",
   "execution_count": 5,
   "id": "c15041ba",
   "metadata": {},
   "outputs": [
    {
     "data": {
      "text/html": [
       "'Green'"
      ],
      "text/latex": [
       "'Green'"
      ],
      "text/markdown": [
       "'Green'"
      ],
      "text/plain": [
       "[1] \"Green\""
      ]
     },
     "metadata": {},
     "output_type": "display_data"
    }
   ],
   "source": [
    "#Average\n",
    "avg <- mean(p)\n",
    "\n",
    "ifelse(avg >= 0.5, \"Red\", \"Green\")"
   ]
  },
  {
   "cell_type": "markdown",
   "id": "2c0aa40c",
   "metadata": {},
   "source": [
    "## Exercise 8"
   ]
  },
  {
   "cell_type": "markdown",
   "id": "6be10159",
   "metadata": {},
   "source": [
    "In the lab, a classification tree was applied to the Carseats data set after\n",
    "converting Sales into a qualitative response variable. Now we will\n",
    "seek to predict Sales using regression trees and related approaches,\n",
    "treating the response as a quantitative variable."
   ]
  },
  {
   "cell_type": "code",
   "execution_count": 6,
   "id": "b28e2f23",
   "metadata": {},
   "outputs": [],
   "source": [
    "library(ISLR)\n",
    "attach(Carseats)"
   ]
  },
  {
   "cell_type": "markdown",
   "id": "454eacb5",
   "metadata": {},
   "source": [
    "a) Split the data set into a training set and a test set."
   ]
  },
  {
   "cell_type": "code",
   "execution_count": 7,
   "id": "2272fe8e",
   "metadata": {},
   "outputs": [
    {
     "name": "stderr",
     "output_type": "stream",
     "text": [
      "Warning message in set.seed(2, sample.kind = \"Rounding\"):\n",
      "\"non-uniform 'Rounding' sampler used\"\n"
     ]
    }
   ],
   "source": [
    "#Match train and test\n",
    "set.seed(2, sample.kind = \"Rounding\")\n",
    "\n",
    "train_index <- sample(1:nrow(Carseats), nrow(Carseats)/2)\n",
    "\n",
    "train <- Carseats[train_index,] \n",
    "test <- Carseats[-train_index,] "
   ]
  },
  {
   "cell_type": "code",
   "execution_count": 8,
   "id": "1a62b76a",
   "metadata": {},
   "outputs": [
    {
     "data": {
      "text/html": [
       "<table class=\"dataframe\">\n",
       "<caption>A data.frame: 6 × 11</caption>\n",
       "<thead>\n",
       "\t<tr><th></th><th scope=col>Sales</th><th scope=col>CompPrice</th><th scope=col>Income</th><th scope=col>Advertising</th><th scope=col>Population</th><th scope=col>Price</th><th scope=col>ShelveLoc</th><th scope=col>Age</th><th scope=col>Education</th><th scope=col>Urban</th><th scope=col>US</th></tr>\n",
       "\t<tr><th></th><th scope=col>&lt;dbl&gt;</th><th scope=col>&lt;dbl&gt;</th><th scope=col>&lt;dbl&gt;</th><th scope=col>&lt;dbl&gt;</th><th scope=col>&lt;dbl&gt;</th><th scope=col>&lt;dbl&gt;</th><th scope=col>&lt;fct&gt;</th><th scope=col>&lt;dbl&gt;</th><th scope=col>&lt;dbl&gt;</th><th scope=col>&lt;fct&gt;</th><th scope=col>&lt;fct&gt;</th></tr>\n",
       "</thead>\n",
       "<tbody>\n",
       "\t<tr><th scope=row>74</th><td>12.61</td><td>118</td><td>90</td><td>10</td><td> 54</td><td>104</td><td>Good  </td><td>31</td><td>11</td><td>No </td><td>Yes</td></tr>\n",
       "\t<tr><th scope=row>281</th><td> 2.86</td><td>121</td><td>86</td><td>10</td><td>496</td><td>145</td><td>Bad   </td><td>51</td><td>10</td><td>Yes</td><td>Yes</td></tr>\n",
       "\t<tr><th scope=row>229</th><td> 5.40</td><td>149</td><td>73</td><td>13</td><td>381</td><td>163</td><td>Bad   </td><td>26</td><td>11</td><td>No </td><td>Yes</td></tr>\n",
       "\t<tr><th scope=row>67</th><td> 8.85</td><td>127</td><td>92</td><td> 0</td><td>508</td><td> 91</td><td>Medium</td><td>56</td><td>18</td><td>Yes</td><td>No </td></tr>\n",
       "\t<tr><th scope=row>374</th><td> 5.58</td><td>137</td><td>71</td><td> 0</td><td>402</td><td>116</td><td>Medium</td><td>78</td><td>17</td><td>Yes</td><td>No </td></tr>\n",
       "\t<tr><th scope=row>373</th><td> 7.80</td><td>121</td><td>50</td><td> 0</td><td>508</td><td> 98</td><td>Medium</td><td>65</td><td>11</td><td>No </td><td>No </td></tr>\n",
       "</tbody>\n",
       "</table>\n"
      ],
      "text/latex": [
       "A data.frame: 6 × 11\n",
       "\\begin{tabular}{r|lllllllllll}\n",
       "  & Sales & CompPrice & Income & Advertising & Population & Price & ShelveLoc & Age & Education & Urban & US\\\\\n",
       "  & <dbl> & <dbl> & <dbl> & <dbl> & <dbl> & <dbl> & <fct> & <dbl> & <dbl> & <fct> & <fct>\\\\\n",
       "\\hline\n",
       "\t74 & 12.61 & 118 & 90 & 10 &  54 & 104 & Good   & 31 & 11 & No  & Yes\\\\\n",
       "\t281 &  2.86 & 121 & 86 & 10 & 496 & 145 & Bad    & 51 & 10 & Yes & Yes\\\\\n",
       "\t229 &  5.40 & 149 & 73 & 13 & 381 & 163 & Bad    & 26 & 11 & No  & Yes\\\\\n",
       "\t67 &  8.85 & 127 & 92 &  0 & 508 &  91 & Medium & 56 & 18 & Yes & No \\\\\n",
       "\t374 &  5.58 & 137 & 71 &  0 & 402 & 116 & Medium & 78 & 17 & Yes & No \\\\\n",
       "\t373 &  7.80 & 121 & 50 &  0 & 508 &  98 & Medium & 65 & 11 & No  & No \\\\\n",
       "\\end{tabular}\n"
      ],
      "text/markdown": [
       "\n",
       "A data.frame: 6 × 11\n",
       "\n",
       "| <!--/--> | Sales &lt;dbl&gt; | CompPrice &lt;dbl&gt; | Income &lt;dbl&gt; | Advertising &lt;dbl&gt; | Population &lt;dbl&gt; | Price &lt;dbl&gt; | ShelveLoc &lt;fct&gt; | Age &lt;dbl&gt; | Education &lt;dbl&gt; | Urban &lt;fct&gt; | US &lt;fct&gt; |\n",
       "|---|---|---|---|---|---|---|---|---|---|---|---|\n",
       "| 74 | 12.61 | 118 | 90 | 10 |  54 | 104 | Good   | 31 | 11 | No  | Yes |\n",
       "| 281 |  2.86 | 121 | 86 | 10 | 496 | 145 | Bad    | 51 | 10 | Yes | Yes |\n",
       "| 229 |  5.40 | 149 | 73 | 13 | 381 | 163 | Bad    | 26 | 11 | No  | Yes |\n",
       "| 67 |  8.85 | 127 | 92 |  0 | 508 |  91 | Medium | 56 | 18 | Yes | No  |\n",
       "| 374 |  5.58 | 137 | 71 |  0 | 402 | 116 | Medium | 78 | 17 | Yes | No  |\n",
       "| 373 |  7.80 | 121 | 50 |  0 | 508 |  98 | Medium | 65 | 11 | No  | No  |\n",
       "\n"
      ],
      "text/plain": [
       "    Sales CompPrice Income Advertising Population Price ShelveLoc Age Education\n",
       "74  12.61 118       90     10           54        104   Good      31  11       \n",
       "281  2.86 121       86     10          496        145   Bad       51  10       \n",
       "229  5.40 149       73     13          381        163   Bad       26  11       \n",
       "67   8.85 127       92      0          508         91   Medium    56  18       \n",
       "374  5.58 137       71      0          402        116   Medium    78  17       \n",
       "373  7.80 121       50      0          508         98   Medium    65  11       \n",
       "    Urban US \n",
       "74  No    Yes\n",
       "281 Yes   Yes\n",
       "229 No    Yes\n",
       "67  Yes   No \n",
       "374 Yes   No \n",
       "373 No    No "
      ]
     },
     "metadata": {},
     "output_type": "display_data"
    }
   ],
   "source": [
    "head(train)"
   ]
  },
  {
   "cell_type": "code",
   "execution_count": 9,
   "id": "17c77737",
   "metadata": {},
   "outputs": [
    {
     "data": {
      "text/html": [
       "<table class=\"dataframe\">\n",
       "<caption>A data.frame: 6 × 11</caption>\n",
       "<thead>\n",
       "\t<tr><th></th><th scope=col>Sales</th><th scope=col>CompPrice</th><th scope=col>Income</th><th scope=col>Advertising</th><th scope=col>Population</th><th scope=col>Price</th><th scope=col>ShelveLoc</th><th scope=col>Age</th><th scope=col>Education</th><th scope=col>Urban</th><th scope=col>US</th></tr>\n",
       "\t<tr><th></th><th scope=col>&lt;dbl&gt;</th><th scope=col>&lt;dbl&gt;</th><th scope=col>&lt;dbl&gt;</th><th scope=col>&lt;dbl&gt;</th><th scope=col>&lt;dbl&gt;</th><th scope=col>&lt;dbl&gt;</th><th scope=col>&lt;fct&gt;</th><th scope=col>&lt;dbl&gt;</th><th scope=col>&lt;dbl&gt;</th><th scope=col>&lt;fct&gt;</th><th scope=col>&lt;fct&gt;</th></tr>\n",
       "</thead>\n",
       "<tbody>\n",
       "\t<tr><th scope=row>1</th><td> 9.50</td><td>138</td><td> 73</td><td>11</td><td>276</td><td>120</td><td>Bad   </td><td>42</td><td>17</td><td>Yes</td><td>Yes</td></tr>\n",
       "\t<tr><th scope=row>2</th><td>11.22</td><td>111</td><td> 48</td><td>16</td><td>260</td><td> 83</td><td>Good  </td><td>65</td><td>10</td><td>Yes</td><td>Yes</td></tr>\n",
       "\t<tr><th scope=row>5</th><td> 4.15</td><td>141</td><td> 64</td><td> 3</td><td>340</td><td>128</td><td>Bad   </td><td>38</td><td>13</td><td>Yes</td><td>No </td></tr>\n",
       "\t<tr><th scope=row>9</th><td> 6.54</td><td>132</td><td>110</td><td> 0</td><td>108</td><td>124</td><td>Medium</td><td>76</td><td>10</td><td>No </td><td>No </td></tr>\n",
       "\t<tr><th scope=row>10</th><td> 4.69</td><td>132</td><td>113</td><td> 0</td><td>131</td><td>124</td><td>Medium</td><td>76</td><td>17</td><td>No </td><td>Yes</td></tr>\n",
       "\t<tr><th scope=row>12</th><td>11.96</td><td>117</td><td> 94</td><td> 4</td><td>503</td><td> 94</td><td>Good  </td><td>50</td><td>13</td><td>Yes</td><td>Yes</td></tr>\n",
       "</tbody>\n",
       "</table>\n"
      ],
      "text/latex": [
       "A data.frame: 6 × 11\n",
       "\\begin{tabular}{r|lllllllllll}\n",
       "  & Sales & CompPrice & Income & Advertising & Population & Price & ShelveLoc & Age & Education & Urban & US\\\\\n",
       "  & <dbl> & <dbl> & <dbl> & <dbl> & <dbl> & <dbl> & <fct> & <dbl> & <dbl> & <fct> & <fct>\\\\\n",
       "\\hline\n",
       "\t1 &  9.50 & 138 &  73 & 11 & 276 & 120 & Bad    & 42 & 17 & Yes & Yes\\\\\n",
       "\t2 & 11.22 & 111 &  48 & 16 & 260 &  83 & Good   & 65 & 10 & Yes & Yes\\\\\n",
       "\t5 &  4.15 & 141 &  64 &  3 & 340 & 128 & Bad    & 38 & 13 & Yes & No \\\\\n",
       "\t9 &  6.54 & 132 & 110 &  0 & 108 & 124 & Medium & 76 & 10 & No  & No \\\\\n",
       "\t10 &  4.69 & 132 & 113 &  0 & 131 & 124 & Medium & 76 & 17 & No  & Yes\\\\\n",
       "\t12 & 11.96 & 117 &  94 &  4 & 503 &  94 & Good   & 50 & 13 & Yes & Yes\\\\\n",
       "\\end{tabular}\n"
      ],
      "text/markdown": [
       "\n",
       "A data.frame: 6 × 11\n",
       "\n",
       "| <!--/--> | Sales &lt;dbl&gt; | CompPrice &lt;dbl&gt; | Income &lt;dbl&gt; | Advertising &lt;dbl&gt; | Population &lt;dbl&gt; | Price &lt;dbl&gt; | ShelveLoc &lt;fct&gt; | Age &lt;dbl&gt; | Education &lt;dbl&gt; | Urban &lt;fct&gt; | US &lt;fct&gt; |\n",
       "|---|---|---|---|---|---|---|---|---|---|---|---|\n",
       "| 1 |  9.50 | 138 |  73 | 11 | 276 | 120 | Bad    | 42 | 17 | Yes | Yes |\n",
       "| 2 | 11.22 | 111 |  48 | 16 | 260 |  83 | Good   | 65 | 10 | Yes | Yes |\n",
       "| 5 |  4.15 | 141 |  64 |  3 | 340 | 128 | Bad    | 38 | 13 | Yes | No  |\n",
       "| 9 |  6.54 | 132 | 110 |  0 | 108 | 124 | Medium | 76 | 10 | No  | No  |\n",
       "| 10 |  4.69 | 132 | 113 |  0 | 131 | 124 | Medium | 76 | 17 | No  | Yes |\n",
       "| 12 | 11.96 | 117 |  94 |  4 | 503 |  94 | Good   | 50 | 13 | Yes | Yes |\n",
       "\n"
      ],
      "text/plain": [
       "   Sales CompPrice Income Advertising Population Price ShelveLoc Age Education\n",
       "1   9.50 138        73    11          276        120   Bad       42  17       \n",
       "2  11.22 111        48    16          260         83   Good      65  10       \n",
       "5   4.15 141        64     3          340        128   Bad       38  13       \n",
       "9   6.54 132       110     0          108        124   Medium    76  10       \n",
       "10  4.69 132       113     0          131        124   Medium    76  17       \n",
       "12 11.96 117        94     4          503         94   Good      50  13       \n",
       "   Urban US \n",
       "1  Yes   Yes\n",
       "2  Yes   Yes\n",
       "5  Yes   No \n",
       "9  No    No \n",
       "10 No    Yes\n",
       "12 Yes   Yes"
      ]
     },
     "metadata": {},
     "output_type": "display_data"
    }
   ],
   "source": [
    "head(test)"
   ]
  },
  {
   "cell_type": "markdown",
   "id": "1185bae4",
   "metadata": {},
   "source": [
    "b) Fit a regression tree to the training set. Plot the tree, and interpret\n",
    "the results. What test MSE do you obtain?"
   ]
  },
  {
   "cell_type": "code",
   "execution_count": 10,
   "id": "43f8ce20",
   "metadata": {},
   "outputs": [],
   "source": [
    "library(tree)"
   ]
  },
  {
   "cell_type": "code",
   "execution_count": 11,
   "id": "5fba2aa2",
   "metadata": {
    "scrolled": false
   },
   "outputs": [
    {
     "data": {
      "image/png": "[encoded data removed]",
      "text/plain": [
       "plot without title"
      ]
     },
     "metadata": {
      "image/png": {
       "height": 420,
       "width": 420
      }
     },
     "output_type": "display_data"
    }
   ],
   "source": [
    "treez <- tree(Sales ~ ., train)\n",
    "\n",
    "plot(treez)\n",
    "text(treez, pretty = 0, cex = 0.7)"
   ]
  },
  {
   "cell_type": "markdown",
   "id": "70b03b7c",
   "metadata": {},
   "source": [
    "Shelveloc and Price are the most important branches of the tree since they are the ones that appear on the top (first branches)"
   ]
  },
  {
   "cell_type": "code",
   "execution_count": 12,
   "id": "8c27495d",
   "metadata": {
    "scrolled": true
   },
   "outputs": [
    {
     "data": {
      "text/plain": [
       "\n",
       "Regression tree:\n",
       "tree(formula = Sales ~ ., data = train)\n",
       "Variables actually used in tree construction:\n",
       "[1] \"ShelveLoc\"   \"Price\"       \"Age\"         \"Income\"      \"CompPrice\"  \n",
       "[6] \"Population\"  \"Advertising\"\n",
       "Number of terminal nodes:  17 \n",
       "Residual mean deviance:  2.341 = 428.4 / 183 \n",
       "Distribution of residuals:\n",
       "    Min.  1st Qu.   Median     Mean  3rd Qu.     Max. \n",
       "-3.76700 -1.00900 -0.01558  0.00000  0.94900  3.58600 "
      ]
     },
     "metadata": {},
     "output_type": "display_data"
    }
   ],
   "source": [
    "summary(treez)"
   ]
  },
  {
   "cell_type": "markdown",
   "id": "b33126b0",
   "metadata": {},
   "source": [
    "There's a total of 17 nodes"
   ]
  },
  {
   "cell_type": "code",
   "execution_count": 25,
   "id": "a62d7a87",
   "metadata": {},
   "outputs": [
    {
     "data": {
      "text/html": [
       "4.84499143801121"
      ],
      "text/latex": [
       "4.84499143801121"
      ],
      "text/markdown": [
       "4.84499143801121"
      ],
      "text/plain": [
       "[1] 4.844991"
      ]
     },
     "metadata": {},
     "output_type": "display_data"
    }
   ],
   "source": [
    "#MSE\n",
    "test_pred <- predict(treez, test)\n",
    "mean((test_pred - test$Sales)^2)"
   ]
  },
  {
   "cell_type": "markdown",
   "id": "611f3ee1",
   "metadata": {},
   "source": [
    "Use cross-validation in order to determine the optimal level of\n",
    "tree complexity. Does pruning the tree improve the test MSE?"
   ]
  },
  {
   "cell_type": "code",
   "execution_count": 22,
   "id": "6898fb99",
   "metadata": {
    "scrolled": false
   },
   "outputs": [
    {
     "data": {
      "image/png": "[encoded data removed]",
      "text/plain": [
       "plot without title"
      ]
     },
     "metadata": {
      "image/png": {
       "height": 420,
       "width": 420
      }
     },
     "output_type": "display_data"
    }
   ],
   "source": [
    "set.seed(123)\n",
    "cvalidation =cv.tree(treez) \n",
    "plot(cvalidation)"
   ]
  },
  {
   "cell_type": "markdown",
   "id": "685fa67c",
   "metadata": {},
   "source": [
    "Seems like the best node level is 17"
   ]
  },
  {
   "cell_type": "code",
   "execution_count": 26,
   "id": "faaaadfc",
   "metadata": {},
   "outputs": [
    {
     "data": {
      "text/html": [
       "4.84499143801121"
      ],
      "text/latex": [
       "4.84499143801121"
      ],
      "text/markdown": [
       "4.84499143801121"
      ],
      "text/plain": [
       "[1] 4.844991"
      ]
     },
     "metadata": {},
     "output_type": "display_data"
    }
   ],
   "source": [
    "prunez=prune.tree(treez,best=17)\n",
    "\n",
    "test_pred <- predict(prunez, test)\n",
    "mean((test_pred - test$Sales)^2)"
   ]
  },
  {
   "cell_type": "markdown",
   "id": "3903709c",
   "metadata": {},
   "source": [
    "We get exactly the same MSE"
   ]
  },
  {
   "cell_type": "markdown",
   "id": "0c699d26",
   "metadata": {},
   "source": [
    "d) Use the bagging approach in order to analyze this data. What\n",
    "test MSE do you obtain? Use the importance() function to determine\n",
    "which variables are most important."
   ]
  },
  {
   "cell_type": "code",
   "execution_count": 28,
   "id": "4e17d1ff",
   "metadata": {},
   "outputs": [
    {
     "name": "stderr",
     "output_type": "stream",
     "text": [
      "randomForest 4.6-14\n",
      "\n",
      "Type rfNews() to see new features/changes/bug fixes.\n",
      "\n"
     ]
    }
   ],
   "source": [
    "library(randomForest)"
   ]
  },
  {
   "cell_type": "code",
   "execution_count": 30,
   "id": "b3fcf787",
   "metadata": {},
   "outputs": [],
   "source": [
    "bagged_treez <- randomForest(y = train$Sales, \n",
    "                                   x = train[ ,-1], \n",
    "                                   mtry = ncol(train) - 1, # 10\n",
    "                                   importance = T) "
   ]
  },
  {
   "cell_type": "code",
   "execution_count": 33,
   "id": "8f8b15e6",
   "metadata": {},
   "outputs": [
    {
     "data": {
      "image/png": "[encoded data removed]",
      "text/plain": [
       "Plot with title \"bagged_treez\""
      ]
     },
     "metadata": {
      "image/png": {
       "height": 420,
       "width": 420
      }
     },
     "output_type": "display_data"
    }
   ],
   "source": [
    "plot(bagged_treez)"
   ]
  },
  {
   "cell_type": "code",
   "execution_count": 34,
   "id": "d60737b8",
   "metadata": {
    "scrolled": false
   },
   "outputs": [
    {
     "data": {
      "image/png": "[encoded data removed]",
      "text/plain": [
       "plot without title"
      ]
     },
     "metadata": {
      "image/png": {
       "height": 420,
       "width": 420
      }
     },
     "output_type": "display_data"
    }
   ],
   "source": [
    "varImpPlot(bagged_treez)"
   ]
  },
  {
   "cell_type": "code",
   "execution_count": 37,
   "id": "02c448ef",
   "metadata": {},
   "outputs": [],
   "source": [
    "library(knitr)"
   ]
  },
  {
   "cell_type": "code",
   "execution_count": 38,
   "id": "d2afc2b3",
   "metadata": {
    "scrolled": true
   },
   "outputs": [
    {
     "data": {
      "text/plain": [
       "\n",
       "\n",
       "|            |   %IncMSE| IncNodePurity|\n",
       "|:-----------|---------:|-------------:|\n",
       "|CompPrice   | 25.528498|    176.093896|\n",
       "|Income      |  1.855542|     72.436092|\n",
       "|Advertising | 12.969907|     92.380207|\n",
       "|Population  |  2.325814|     64.203473|\n",
       "|Price       | 57.470719|    492.559015|\n",
       "|ShelveLoc   | 51.826833|    463.698394|\n",
       "|Age         | 13.428816|    120.257407|\n",
       "|Education   | -1.024999|     37.137628|\n",
       "|Urban       | -1.869618|      6.131053|\n",
       "|US          |  1.505402|      6.616913|"
      ]
     },
     "metadata": {},
     "output_type": "display_data"
    }
   ],
   "source": [
    "kable(importance(bagged_treez))"
   ]
  },
  {
   "cell_type": "markdown",
   "id": "5ed860a3",
   "metadata": {},
   "source": [
    "Price and ShelveLoc are the most important variables."
   ]
  },
  {
   "cell_type": "markdown",
   "id": "d251b93a",
   "metadata": {},
   "source": [
    "e) Use random forests to analyze this data. What test MSE do you\n",
    "obtain? Use the importance() function to determine which variables\n",
    "aremost important. Describe the effect of m, the number of\n",
    "variables considered at each split, on the error rate\n",
    "obtained."
   ]
  },
  {
   "cell_type": "markdown",
   "id": "81ea35fb",
   "metadata": {},
   "source": [
    "## Exercise 9"
   ]
  },
  {
   "cell_type": "markdown",
   "id": "69339886",
   "metadata": {},
   "source": [
    "This problem involves the OJ data set which is part of the ISLR\n",
    "package."
   ]
  },
  {
   "cell_type": "markdown",
   "id": "c88039c6",
   "metadata": {},
   "source": [
    "a) Create a training set containing a random sample of 800 observations,\n",
    "and a test set containing the remaining observations."
   ]
  },
  {
   "cell_type": "code",
   "execution_count": 47,
   "id": "5682dd90",
   "metadata": {},
   "outputs": [],
   "source": [
    "set.seed(666)\n",
    "\n",
    "train=sample(1:nrow(OJ),800)\n",
    "\n",
    "OJ_train=OJ[train,]\n",
    "OJ_test=OJ[-train,]"
   ]
  },
  {
   "cell_type": "code",
   "execution_count": 51,
   "id": "50a818da",
   "metadata": {},
   "outputs": [
    {
     "data": {
      "text/html": [
       "<table class=\"dataframe\">\n",
       "<caption>A data.frame: 6 × 18</caption>\n",
       "<thead>\n",
       "\t<tr><th></th><th scope=col>Purchase</th><th scope=col>WeekofPurchase</th><th scope=col>StoreID</th><th scope=col>PriceCH</th><th scope=col>PriceMM</th><th scope=col>DiscCH</th><th scope=col>DiscMM</th><th scope=col>SpecialCH</th><th scope=col>SpecialMM</th><th scope=col>LoyalCH</th><th scope=col>SalePriceMM</th><th scope=col>SalePriceCH</th><th scope=col>PriceDiff</th><th scope=col>Store7</th><th scope=col>PctDiscMM</th><th scope=col>PctDiscCH</th><th scope=col>ListPriceDiff</th><th scope=col>STORE</th></tr>\n",
       "\t<tr><th></th><th scope=col>&lt;fct&gt;</th><th scope=col>&lt;dbl&gt;</th><th scope=col>&lt;dbl&gt;</th><th scope=col>&lt;dbl&gt;</th><th scope=col>&lt;dbl&gt;</th><th scope=col>&lt;dbl&gt;</th><th scope=col>&lt;dbl&gt;</th><th scope=col>&lt;dbl&gt;</th><th scope=col>&lt;dbl&gt;</th><th scope=col>&lt;dbl&gt;</th><th scope=col>&lt;dbl&gt;</th><th scope=col>&lt;dbl&gt;</th><th scope=col>&lt;dbl&gt;</th><th scope=col>&lt;fct&gt;</th><th scope=col>&lt;dbl&gt;</th><th scope=col>&lt;dbl&gt;</th><th scope=col>&lt;dbl&gt;</th><th scope=col>&lt;dbl&gt;</th></tr>\n",
       "</thead>\n",
       "<tbody>\n",
       "\t<tr><th scope=row>829</th><td>CH</td><td>251</td><td>4</td><td>1.99</td><td>2.23</td><td>0.00</td><td>0.0</td><td>0</td><td>0</td><td>0.945540</td><td>2.23</td><td>1.99</td><td> 0.24</td><td>No </td><td>0.000000</td><td>0.000000</td><td>0.24</td><td>4</td></tr>\n",
       "\t<tr><th scope=row>211</th><td>CH</td><td>258</td><td>7</td><td>1.86</td><td>2.18</td><td>0.00</td><td>0.0</td><td>0</td><td>0</td><td>0.923496</td><td>2.18</td><td>1.86</td><td> 0.32</td><td>Yes</td><td>0.000000</td><td>0.000000</td><td>0.32</td><td>0</td></tr>\n",
       "\t<tr><th scope=row>1045</th><td>CH</td><td>241</td><td>1</td><td>1.86</td><td>1.99</td><td>0.00</td><td>0.3</td><td>0</td><td>1</td><td>0.777178</td><td>1.69</td><td>1.86</td><td>-0.17</td><td>No </td><td>0.150754</td><td>0.000000</td><td>0.13</td><td>1</td></tr>\n",
       "\t<tr><th scope=row>215</th><td>CH</td><td>264</td><td>7</td><td>1.86</td><td>2.13</td><td>0.37</td><td>0.0</td><td>1</td><td>0</td><td>0.968664</td><td>2.13</td><td>1.49</td><td> 0.64</td><td>Yes</td><td>0.000000</td><td>0.198925</td><td>0.27</td><td>0</td></tr>\n",
       "\t<tr><th scope=row>386</th><td>MM</td><td>228</td><td>2</td><td>1.69</td><td>1.69</td><td>0.00</td><td>0.0</td><td>0</td><td>0</td><td>0.206716</td><td>1.69</td><td>1.69</td><td> 0.00</td><td>No </td><td>0.000000</td><td>0.000000</td><td>0.00</td><td>2</td></tr>\n",
       "\t<tr><th scope=row>791</th><td>MM</td><td>241</td><td>3</td><td>1.79</td><td>2.23</td><td>0.00</td><td>0.0</td><td>0</td><td>0</td><td>0.500000</td><td>2.23</td><td>1.79</td><td> 0.44</td><td>No </td><td>0.000000</td><td>0.000000</td><td>0.44</td><td>3</td></tr>\n",
       "</tbody>\n",
       "</table>\n"
      ],
      "text/latex": [
       "A data.frame: 6 × 18\n",
       "\\begin{tabular}{r|llllllllllllllllll}\n",
       "  & Purchase & WeekofPurchase & StoreID & PriceCH & PriceMM & DiscCH & DiscMM & SpecialCH & SpecialMM & LoyalCH & SalePriceMM & SalePriceCH & PriceDiff & Store7 & PctDiscMM & PctDiscCH & ListPriceDiff & STORE\\\\\n",
       "  & <fct> & <dbl> & <dbl> & <dbl> & <dbl> & <dbl> & <dbl> & <dbl> & <dbl> & <dbl> & <dbl> & <dbl> & <dbl> & <fct> & <dbl> & <dbl> & <dbl> & <dbl>\\\\\n",
       "\\hline\n",
       "\t829 & CH & 251 & 4 & 1.99 & 2.23 & 0.00 & 0.0 & 0 & 0 & 0.945540 & 2.23 & 1.99 &  0.24 & No  & 0.000000 & 0.000000 & 0.24 & 4\\\\\n",
       "\t211 & CH & 258 & 7 & 1.86 & 2.18 & 0.00 & 0.0 & 0 & 0 & 0.923496 & 2.18 & 1.86 &  0.32 & Yes & 0.000000 & 0.000000 & 0.32 & 0\\\\\n",
       "\t1045 & CH & 241 & 1 & 1.86 & 1.99 & 0.00 & 0.3 & 0 & 1 & 0.777178 & 1.69 & 1.86 & -0.17 & No  & 0.150754 & 0.000000 & 0.13 & 1\\\\\n",
       "\t215 & CH & 264 & 7 & 1.86 & 2.13 & 0.37 & 0.0 & 1 & 0 & 0.968664 & 2.13 & 1.49 &  0.64 & Yes & 0.000000 & 0.198925 & 0.27 & 0\\\\\n",
       "\t386 & MM & 228 & 2 & 1.69 & 1.69 & 0.00 & 0.0 & 0 & 0 & 0.206716 & 1.69 & 1.69 &  0.00 & No  & 0.000000 & 0.000000 & 0.00 & 2\\\\\n",
       "\t791 & MM & 241 & 3 & 1.79 & 2.23 & 0.00 & 0.0 & 0 & 0 & 0.500000 & 2.23 & 1.79 &  0.44 & No  & 0.000000 & 0.000000 & 0.44 & 3\\\\\n",
       "\\end{tabular}\n"
      ],
      "text/markdown": [
       "\n",
       "A data.frame: 6 × 18\n",
       "\n",
       "| <!--/--> | Purchase &lt;fct&gt; | WeekofPurchase &lt;dbl&gt; | StoreID &lt;dbl&gt; | PriceCH &lt;dbl&gt; | PriceMM &lt;dbl&gt; | DiscCH &lt;dbl&gt; | DiscMM &lt;dbl&gt; | SpecialCH &lt;dbl&gt; | SpecialMM &lt;dbl&gt; | LoyalCH &lt;dbl&gt; | SalePriceMM &lt;dbl&gt; | SalePriceCH &lt;dbl&gt; | PriceDiff &lt;dbl&gt; | Store7 &lt;fct&gt; | PctDiscMM &lt;dbl&gt; | PctDiscCH &lt;dbl&gt; | ListPriceDiff &lt;dbl&gt; | STORE &lt;dbl&gt; |\n",
       "|---|---|---|---|---|---|---|---|---|---|---|---|---|---|---|---|---|---|---|\n",
       "| 829 | CH | 251 | 4 | 1.99 | 2.23 | 0.00 | 0.0 | 0 | 0 | 0.945540 | 2.23 | 1.99 |  0.24 | No  | 0.000000 | 0.000000 | 0.24 | 4 |\n",
       "| 211 | CH | 258 | 7 | 1.86 | 2.18 | 0.00 | 0.0 | 0 | 0 | 0.923496 | 2.18 | 1.86 |  0.32 | Yes | 0.000000 | 0.000000 | 0.32 | 0 |\n",
       "| 1045 | CH | 241 | 1 | 1.86 | 1.99 | 0.00 | 0.3 | 0 | 1 | 0.777178 | 1.69 | 1.86 | -0.17 | No  | 0.150754 | 0.000000 | 0.13 | 1 |\n",
       "| 215 | CH | 264 | 7 | 1.86 | 2.13 | 0.37 | 0.0 | 1 | 0 | 0.968664 | 2.13 | 1.49 |  0.64 | Yes | 0.000000 | 0.198925 | 0.27 | 0 |\n",
       "| 386 | MM | 228 | 2 | 1.69 | 1.69 | 0.00 | 0.0 | 0 | 0 | 0.206716 | 1.69 | 1.69 |  0.00 | No  | 0.000000 | 0.000000 | 0.00 | 2 |\n",
       "| 791 | MM | 241 | 3 | 1.79 | 2.23 | 0.00 | 0.0 | 0 | 0 | 0.500000 | 2.23 | 1.79 |  0.44 | No  | 0.000000 | 0.000000 | 0.44 | 3 |\n",
       "\n"
      ],
      "text/plain": [
       "     Purchase WeekofPurchase StoreID PriceCH PriceMM DiscCH DiscMM SpecialCH\n",
       "829  CH       251            4       1.99    2.23    0.00   0.0    0        \n",
       "211  CH       258            7       1.86    2.18    0.00   0.0    0        \n",
       "1045 CH       241            1       1.86    1.99    0.00   0.3    0        \n",
       "215  CH       264            7       1.86    2.13    0.37   0.0    1        \n",
       "386  MM       228            2       1.69    1.69    0.00   0.0    0        \n",
       "791  MM       241            3       1.79    2.23    0.00   0.0    0        \n",
       "     SpecialMM LoyalCH  SalePriceMM SalePriceCH PriceDiff Store7 PctDiscMM\n",
       "829  0         0.945540 2.23        1.99         0.24     No     0.000000 \n",
       "211  0         0.923496 2.18        1.86         0.32     Yes    0.000000 \n",
       "1045 1         0.777178 1.69        1.86        -0.17     No     0.150754 \n",
       "215  0         0.968664 2.13        1.49         0.64     Yes    0.000000 \n",
       "386  0         0.206716 1.69        1.69         0.00     No     0.000000 \n",
       "791  0         0.500000 2.23        1.79         0.44     No     0.000000 \n",
       "     PctDiscCH ListPriceDiff STORE\n",
       "829  0.000000  0.24          4    \n",
       "211  0.000000  0.32          0    \n",
       "1045 0.000000  0.13          1    \n",
       "215  0.198925  0.27          0    \n",
       "386  0.000000  0.00          2    \n",
       "791  0.000000  0.44          3    "
      ]
     },
     "metadata": {},
     "output_type": "display_data"
    }
   ],
   "source": [
    "head(OJ_train)"
   ]
  },
  {
   "cell_type": "code",
   "execution_count": 52,
   "id": "50db1801",
   "metadata": {},
   "outputs": [
    {
     "data": {
      "text/html": [
       "<table class=\"dataframe\">\n",
       "<caption>A data.frame: 6 × 18</caption>\n",
       "<thead>\n",
       "\t<tr><th></th><th scope=col>Purchase</th><th scope=col>WeekofPurchase</th><th scope=col>StoreID</th><th scope=col>PriceCH</th><th scope=col>PriceMM</th><th scope=col>DiscCH</th><th scope=col>DiscMM</th><th scope=col>SpecialCH</th><th scope=col>SpecialMM</th><th scope=col>LoyalCH</th><th scope=col>SalePriceMM</th><th scope=col>SalePriceCH</th><th scope=col>PriceDiff</th><th scope=col>Store7</th><th scope=col>PctDiscMM</th><th scope=col>PctDiscCH</th><th scope=col>ListPriceDiff</th><th scope=col>STORE</th></tr>\n",
       "\t<tr><th></th><th scope=col>&lt;fct&gt;</th><th scope=col>&lt;dbl&gt;</th><th scope=col>&lt;dbl&gt;</th><th scope=col>&lt;dbl&gt;</th><th scope=col>&lt;dbl&gt;</th><th scope=col>&lt;dbl&gt;</th><th scope=col>&lt;dbl&gt;</th><th scope=col>&lt;dbl&gt;</th><th scope=col>&lt;dbl&gt;</th><th scope=col>&lt;dbl&gt;</th><th scope=col>&lt;dbl&gt;</th><th scope=col>&lt;dbl&gt;</th><th scope=col>&lt;dbl&gt;</th><th scope=col>&lt;fct&gt;</th><th scope=col>&lt;dbl&gt;</th><th scope=col>&lt;dbl&gt;</th><th scope=col>&lt;dbl&gt;</th><th scope=col>&lt;dbl&gt;</th></tr>\n",
       "</thead>\n",
       "<tbody>\n",
       "\t<tr><th scope=row>7</th><td>CH</td><td>232</td><td>7</td><td>1.69</td><td>1.99</td><td>0.00</td><td>0.4</td><td>1</td><td>1</td><td>0.972182</td><td>1.59</td><td>1.69</td><td>-0.10</td><td>Yes</td><td>0.201005</td><td>0.000000</td><td>0.30</td><td>0</td></tr>\n",
       "\t<tr><th scope=row>8</th><td>CH</td><td>234</td><td>7</td><td>1.75</td><td>1.99</td><td>0.00</td><td>0.4</td><td>1</td><td>0</td><td>0.977746</td><td>1.59</td><td>1.75</td><td>-0.16</td><td>Yes</td><td>0.201005</td><td>0.000000</td><td>0.24</td><td>0</td></tr>\n",
       "\t<tr><th scope=row>10</th><td>CH</td><td>238</td><td>7</td><td>1.75</td><td>1.99</td><td>0.00</td><td>0.4</td><td>0</td><td>0</td><td>0.985757</td><td>1.59</td><td>1.75</td><td>-0.16</td><td>Yes</td><td>0.201005</td><td>0.000000</td><td>0.24</td><td>0</td></tr>\n",
       "\t<tr><th scope=row>12</th><td>CH</td><td>263</td><td>7</td><td>1.86</td><td>2.13</td><td>0.27</td><td>0.0</td><td>0</td><td>0</td><td>0.990885</td><td>2.13</td><td>1.59</td><td> 0.54</td><td>Yes</td><td>0.000000</td><td>0.145161</td><td>0.27</td><td>0</td></tr>\n",
       "\t<tr><th scope=row>22</th><td>CH</td><td>258</td><td>1</td><td>1.76</td><td>2.18</td><td>0.00</td><td>0.0</td><td>0</td><td>0</td><td>0.680000</td><td>2.18</td><td>1.76</td><td> 0.42</td><td>No </td><td>0.000000</td><td>0.000000</td><td>0.42</td><td>1</td></tr>\n",
       "\t<tr><th scope=row>23</th><td>CH</td><td>259</td><td>7</td><td>1.86</td><td>2.18</td><td>0.00</td><td>0.0</td><td>0</td><td>0</td><td>0.744000</td><td>2.18</td><td>1.86</td><td> 0.32</td><td>Yes</td><td>0.000000</td><td>0.000000</td><td>0.32</td><td>0</td></tr>\n",
       "</tbody>\n",
       "</table>\n"
      ],
      "text/latex": [
       "A data.frame: 6 × 18\n",
       "\\begin{tabular}{r|llllllllllllllllll}\n",
       "  & Purchase & WeekofPurchase & StoreID & PriceCH & PriceMM & DiscCH & DiscMM & SpecialCH & SpecialMM & LoyalCH & SalePriceMM & SalePriceCH & PriceDiff & Store7 & PctDiscMM & PctDiscCH & ListPriceDiff & STORE\\\\\n",
       "  & <fct> & <dbl> & <dbl> & <dbl> & <dbl> & <dbl> & <dbl> & <dbl> & <dbl> & <dbl> & <dbl> & <dbl> & <dbl> & <fct> & <dbl> & <dbl> & <dbl> & <dbl>\\\\\n",
       "\\hline\n",
       "\t7 & CH & 232 & 7 & 1.69 & 1.99 & 0.00 & 0.4 & 1 & 1 & 0.972182 & 1.59 & 1.69 & -0.10 & Yes & 0.201005 & 0.000000 & 0.30 & 0\\\\\n",
       "\t8 & CH & 234 & 7 & 1.75 & 1.99 & 0.00 & 0.4 & 1 & 0 & 0.977746 & 1.59 & 1.75 & -0.16 & Yes & 0.201005 & 0.000000 & 0.24 & 0\\\\\n",
       "\t10 & CH & 238 & 7 & 1.75 & 1.99 & 0.00 & 0.4 & 0 & 0 & 0.985757 & 1.59 & 1.75 & -0.16 & Yes & 0.201005 & 0.000000 & 0.24 & 0\\\\\n",
       "\t12 & CH & 263 & 7 & 1.86 & 2.13 & 0.27 & 0.0 & 0 & 0 & 0.990885 & 2.13 & 1.59 &  0.54 & Yes & 0.000000 & 0.145161 & 0.27 & 0\\\\\n",
       "\t22 & CH & 258 & 1 & 1.76 & 2.18 & 0.00 & 0.0 & 0 & 0 & 0.680000 & 2.18 & 1.76 &  0.42 & No  & 0.000000 & 0.000000 & 0.42 & 1\\\\\n",
       "\t23 & CH & 259 & 7 & 1.86 & 2.18 & 0.00 & 0.0 & 0 & 0 & 0.744000 & 2.18 & 1.86 &  0.32 & Yes & 0.000000 & 0.000000 & 0.32 & 0\\\\\n",
       "\\end{tabular}\n"
      ],
      "text/markdown": [
       "\n",
       "A data.frame: 6 × 18\n",
       "\n",
       "| <!--/--> | Purchase &lt;fct&gt; | WeekofPurchase &lt;dbl&gt; | StoreID &lt;dbl&gt; | PriceCH &lt;dbl&gt; | PriceMM &lt;dbl&gt; | DiscCH &lt;dbl&gt; | DiscMM &lt;dbl&gt; | SpecialCH &lt;dbl&gt; | SpecialMM &lt;dbl&gt; | LoyalCH &lt;dbl&gt; | SalePriceMM &lt;dbl&gt; | SalePriceCH &lt;dbl&gt; | PriceDiff &lt;dbl&gt; | Store7 &lt;fct&gt; | PctDiscMM &lt;dbl&gt; | PctDiscCH &lt;dbl&gt; | ListPriceDiff &lt;dbl&gt; | STORE &lt;dbl&gt; |\n",
       "|---|---|---|---|---|---|---|---|---|---|---|---|---|---|---|---|---|---|---|\n",
       "| 7 | CH | 232 | 7 | 1.69 | 1.99 | 0.00 | 0.4 | 1 | 1 | 0.972182 | 1.59 | 1.69 | -0.10 | Yes | 0.201005 | 0.000000 | 0.30 | 0 |\n",
       "| 8 | CH | 234 | 7 | 1.75 | 1.99 | 0.00 | 0.4 | 1 | 0 | 0.977746 | 1.59 | 1.75 | -0.16 | Yes | 0.201005 | 0.000000 | 0.24 | 0 |\n",
       "| 10 | CH | 238 | 7 | 1.75 | 1.99 | 0.00 | 0.4 | 0 | 0 | 0.985757 | 1.59 | 1.75 | -0.16 | Yes | 0.201005 | 0.000000 | 0.24 | 0 |\n",
       "| 12 | CH | 263 | 7 | 1.86 | 2.13 | 0.27 | 0.0 | 0 | 0 | 0.990885 | 2.13 | 1.59 |  0.54 | Yes | 0.000000 | 0.145161 | 0.27 | 0 |\n",
       "| 22 | CH | 258 | 1 | 1.76 | 2.18 | 0.00 | 0.0 | 0 | 0 | 0.680000 | 2.18 | 1.76 |  0.42 | No  | 0.000000 | 0.000000 | 0.42 | 1 |\n",
       "| 23 | CH | 259 | 7 | 1.86 | 2.18 | 0.00 | 0.0 | 0 | 0 | 0.744000 | 2.18 | 1.86 |  0.32 | Yes | 0.000000 | 0.000000 | 0.32 | 0 |\n",
       "\n"
      ],
      "text/plain": [
       "   Purchase WeekofPurchase StoreID PriceCH PriceMM DiscCH DiscMM SpecialCH\n",
       "7  CH       232            7       1.69    1.99    0.00   0.4    1        \n",
       "8  CH       234            7       1.75    1.99    0.00   0.4    1        \n",
       "10 CH       238            7       1.75    1.99    0.00   0.4    0        \n",
       "12 CH       263            7       1.86    2.13    0.27   0.0    0        \n",
       "22 CH       258            1       1.76    2.18    0.00   0.0    0        \n",
       "23 CH       259            7       1.86    2.18    0.00   0.0    0        \n",
       "   SpecialMM LoyalCH  SalePriceMM SalePriceCH PriceDiff Store7 PctDiscMM\n",
       "7  1         0.972182 1.59        1.69        -0.10     Yes    0.201005 \n",
       "8  0         0.977746 1.59        1.75        -0.16     Yes    0.201005 \n",
       "10 0         0.985757 1.59        1.75        -0.16     Yes    0.201005 \n",
       "12 0         0.990885 2.13        1.59         0.54     Yes    0.000000 \n",
       "22 0         0.680000 2.18        1.76         0.42     No     0.000000 \n",
       "23 0         0.744000 2.18        1.86         0.32     Yes    0.000000 \n",
       "   PctDiscCH ListPriceDiff STORE\n",
       "7  0.000000  0.30          0    \n",
       "8  0.000000  0.24          0    \n",
       "10 0.000000  0.24          0    \n",
       "12 0.145161  0.27          0    \n",
       "22 0.000000  0.42          1    \n",
       "23 0.000000  0.32          0    "
      ]
     },
     "metadata": {},
     "output_type": "display_data"
    }
   ],
   "source": [
    "head(OJ_test)"
   ]
  },
  {
   "cell_type": "markdown",
   "id": "defe3bd6",
   "metadata": {},
   "source": [
    "b) Fit a tree to the training data, with Purchase as the response\n",
    "and the other variables as predictors. Use the summary() function\n",
    "to produce summary statistics about the tree, and describe the\n",
    "results obtained. What is the training error rate? How many\n",
    "terminal nodes does the tree have?"
   ]
  },
  {
   "cell_type": "code",
   "execution_count": 49,
   "id": "55687783",
   "metadata": {
    "scrolled": true
   },
   "outputs": [
    {
     "data": {
      "text/plain": [
       "\n",
       "Classification tree:\n",
       "tree(formula = Purchase ~ ., data = OJ_train)\n",
       "Variables actually used in tree construction:\n",
       "[1] \"LoyalCH\"   \"PriceDiff\" \"SpecialCH\"\n",
       "Number of terminal nodes:  9 \n",
       "Residual mean deviance:  0.7347 = 581.2 / 791 \n",
       "Misclassification error rate: 0.1625 = 130 / 800 "
      ]
     },
     "metadata": {},
     "output_type": "display_data"
    }
   ],
   "source": [
    "OJ_tree=tree(Purchase~.,data=OJ_train) \n",
    "summary(OJ_tree)"
   ]
  },
  {
   "cell_type": "markdown",
   "id": "76cadaf2",
   "metadata": {},
   "source": [
    "c) Type in the name of the tree object in order to get a detailed\n",
    "text output. Pick one of the terminal nodes, and interpret the\n",
    "information displayed"
   ]
  },
  {
   "cell_type": "code",
   "execution_count": 50,
   "id": "98e05d39",
   "metadata": {
    "scrolled": true
   },
   "outputs": [
    {
     "data": {
      "text/plain": [
       "node), split, n, deviance, yval, (yprob)\n",
       "      * denotes terminal node\n",
       "\n",
       " 1) root 800 1073.00 CH ( 0.60625 0.39375 )  \n",
       "   2) LoyalCH < 0.508643 353  415.10 MM ( 0.27479 0.72521 )  \n",
       "     4) LoyalCH < 0.277977 161  112.80 MM ( 0.11180 0.88820 )  \n",
       "       8) LoyalCH < 0.035047 55    0.00 MM ( 0.00000 1.00000 ) *\n",
       "       9) LoyalCH > 0.035047 106   96.58 MM ( 0.16981 0.83019 ) *\n",
       "     5) LoyalCH > 0.277977 192  260.10 MM ( 0.41146 0.58854 )  \n",
       "      10) PriceDiff < 0.195 84   84.62 MM ( 0.20238 0.79762 )  \n",
       "        20) SpecialCH < 0.5 67   49.01 MM ( 0.11940 0.88060 ) *\n",
       "        21) SpecialCH > 0.5 17   23.51 CH ( 0.52941 0.47059 ) *\n",
       "      11) PriceDiff > 0.195 108  147.30 CH ( 0.57407 0.42593 ) *\n",
       "   3) LoyalCH > 0.508643 447  348.80 CH ( 0.86801 0.13199 )  \n",
       "     6) LoyalCH < 0.764572 189  214.20 CH ( 0.74603 0.25397 )  \n",
       "      12) PriceDiff < -0.165 33   43.26 MM ( 0.36364 0.63636 ) *\n",
       "      13) PriceDiff > -0.165 156  143.70 CH ( 0.82692 0.17308 )  \n",
       "        26) PriceDiff < 0.265 86   99.88 CH ( 0.73256 0.26744 ) *\n",
       "        27) PriceDiff > 0.265 70   30.66 CH ( 0.94286 0.05714 ) *\n",
       "     7) LoyalCH > 0.764572 258   90.94 CH ( 0.95736 0.04264 ) *"
      ]
     },
     "metadata": {},
     "output_type": "display_data"
    }
   ],
   "source": [
    "OJ_tree"
   ]
  },
  {
   "cell_type": "markdown",
   "id": "a66a3501",
   "metadata": {},
   "source": [
    "d) Create a plot of the tree, and interpret the results."
   ]
  },
  {
   "cell_type": "code",
   "execution_count": 55,
   "id": "fe602b14",
   "metadata": {},
   "outputs": [
    {
     "data": {
      "image/png": "[encoded data removed]",
      "text/plain": [
       "plot without title"
      ]
     },
     "metadata": {
      "image/png": {
       "height": 420,
       "width": 420
      }
     },
     "output_type": "display_data"
    }
   ],
   "source": [
    "plot(OJ_tree)\n",
    "text(OJ_tree)"
   ]
  },
  {
   "cell_type": "markdown",
   "id": "4ed49c97",
   "metadata": {},
   "source": [
    "The left branch shows a relative low customer loyalty for CH than MM. On the other hand, in the right branch this model predicts that when there is a strong preference for CH it will always be the drink chosen. "
   ]
  },
  {
   "cell_type": "markdown",
   "id": "657b655e",
   "metadata": {},
   "source": [
    "e) Predict the response on the test data, and produce a confusion\n",
    "matrix comparing the test labels to the predicted test labels.\n",
    "What is the test error rate?"
   ]
  },
  {
   "cell_type": "code",
   "execution_count": 57,
   "id": "8a65f9e7",
   "metadata": {},
   "outputs": [
    {
     "data": {
      "text/plain": [
       "\n",
       "\n",
       "|   |  CH|  MM|\n",
       "|:--|---:|---:|\n",
       "|CH | 447|  38|\n",
       "|MM |  92| 223|"
      ]
     },
     "metadata": {},
     "output_type": "display_data"
    }
   ],
   "source": [
    "OJ_pred_train=predict(OJ_tree,OJ_train,type = 'class')\n",
    "kable(table(OJ_train[,'Purchase'],OJ_pred_train))"
   ]
  },
  {
   "cell_type": "code",
   "execution_count": 59,
   "id": "b9205903",
   "metadata": {
    "scrolled": true
   },
   "outputs": [
    {
     "data": {
      "text/plain": [
       "\n",
       "\n",
       "|   |      CH|      MM|\n",
       "|:--|-------:|-------:|\n",
       "|CH | 0.55875| 0.04750|\n",
       "|MM | 0.11500| 0.27875|"
      ]
     },
     "metadata": {},
     "output_type": "display_data"
    }
   ],
   "source": [
    "kable(table(OJ_train[,'Purchase'],OJ_pred_train)/nrow(OJ_train))"
   ]
  },
  {
   "cell_type": "code",
   "execution_count": 61,
   "id": "392fa9e4",
   "metadata": {},
   "outputs": [
    {
     "data": {
      "text/plain": [
       "\n",
       "\n",
       "|   |  CH| MM|\n",
       "|:--|---:|--:|\n",
       "|CH | 150| 18|\n",
       "|MM |  26| 76|"
      ]
     },
     "metadata": {},
     "output_type": "display_data"
    }
   ],
   "source": [
    "OJ_pred_test=predict(OJ_tree,OJ_test,type = 'class')\n",
    "kable(table(OJ_test[,'Purchase'],OJ_pred_test))"
   ]
  },
  {
   "cell_type": "code",
   "execution_count": 62,
   "id": "4bee6dee",
   "metadata": {},
   "outputs": [
    {
     "data": {
      "text/plain": [
       "\n",
       "\n",
       "|   |        CH|        MM|\n",
       "|:--|---------:|---------:|\n",
       "|CH | 0.5555556| 0.0666667|\n",
       "|MM | 0.0962963| 0.2814815|"
      ]
     },
     "metadata": {},
     "output_type": "display_data"
    }
   ],
   "source": [
    "kable(table(OJ_test[,'Purchase'],OJ_pred_test)/nrow(OJ_test))"
   ]
  },
  {
   "cell_type": "markdown",
   "id": "b496f805",
   "metadata": {},
   "source": [
    "f) Apply the cv.tree() function to the training set in order to\n",
    "determine the optimal tree size."
   ]
  },
  {
   "cell_type": "code",
   "execution_count": 63,
   "id": "03918cf1",
   "metadata": {
    "scrolled": false
   },
   "outputs": [
    {
     "data": {
      "image/png": "[encoded data removed]",
      "text/plain": [
       "plot without title"
      ]
     },
     "metadata": {
      "image/png": {
       "height": 420,
       "width": 420
      }
     },
     "output_type": "display_data"
    }
   ],
   "source": [
    "OJ_tree_cv=cv.tree(OJ_tree,K = 10,FUN = prune.misclass)\n",
    "plot(OJ_tree_cv)"
   ]
  },
  {
   "cell_type": "markdown",
   "id": "eb3cd3fc",
   "metadata": {},
   "source": [
    "Optimal size is 2"
   ]
  },
  {
   "cell_type": "code",
   "execution_count": 64,
   "id": "a483469e",
   "metadata": {},
   "outputs": [
    {
     "data": {
      "text/plain": [
       "\n",
       "\n",
       "|   |  CH|  MM|\n",
       "|:--|---:|---:|\n",
       "|CH | 388|  97|\n",
       "|MM |  59| 256|"
      ]
     },
     "metadata": {},
     "output_type": "display_data"
    }
   ],
   "source": [
    "OJ_tree=prune.misclass(OJ_tree,best = 2)\n",
    "\n",
    "OJ_pred_train=predict(OJ_tree,OJ_train,type = 'class')\n",
    "kable(table(OJ_train[,'Purchase'],OJ_pred_train))"
   ]
  },
  {
   "cell_type": "markdown",
   "id": "18ff2b52",
   "metadata": {},
   "source": [
    "## Exercise 10 "
   ]
  },
  {
   "cell_type": "markdown",
   "id": "9ad37b62",
   "metadata": {},
   "source": [
    "We now use boosting to predict Salary in the Hitters data set."
   ]
  },
  {
   "cell_type": "code",
   "execution_count": 67,
   "id": "707ca1ec",
   "metadata": {},
   "outputs": [
    {
     "name": "stdout",
     "output_type": "stream",
     "text": [
      "'data.frame':\t322 obs. of  20 variables:\n",
      " $ AtBat    : int  293 315 479 496 321 594 185 298 323 401 ...\n",
      " $ Hits     : int  66 81 130 141 87 169 37 73 81 92 ...\n",
      " $ HmRun    : int  1 7 18 20 10 4 1 0 6 17 ...\n",
      " $ Runs     : int  30 24 66 65 39 74 23 24 26 49 ...\n",
      " $ RBI      : int  29 38 72 78 42 51 8 24 32 66 ...\n",
      " $ Walks    : int  14 39 76 37 30 35 21 7 8 65 ...\n",
      " $ Years    : int  1 14 3 11 2 11 2 3 2 13 ...\n",
      " $ CAtBat   : int  293 3449 1624 5628 396 4408 214 509 341 5206 ...\n",
      " $ CHits    : int  66 835 457 1575 101 1133 42 108 86 1332 ...\n",
      " $ CHmRun   : int  1 69 63 225 12 19 1 0 6 253 ...\n",
      " $ CRuns    : int  30 321 224 828 48 501 30 41 32 784 ...\n",
      " $ CRBI     : int  29 414 266 838 46 336 9 37 34 890 ...\n",
      " $ CWalks   : int  14 375 263 354 33 194 24 12 8 866 ...\n",
      " $ League   : Factor w/ 2 levels \"A\",\"N\": 1 2 1 2 2 1 2 1 2 1 ...\n",
      " $ Division : Factor w/ 2 levels \"E\",\"W\": 1 2 2 1 1 2 1 2 2 1 ...\n",
      " $ PutOuts  : int  446 632 880 200 805 282 76 121 143 0 ...\n",
      " $ Assists  : int  33 43 82 11 40 421 127 283 290 0 ...\n",
      " $ Errors   : int  20 10 14 3 4 25 7 9 19 0 ...\n",
      " $ Salary   : num  NA 475 480 500 91.5 750 70 100 75 1100 ...\n",
      " $ NewLeague: Factor w/ 2 levels \"A\",\"N\": 1 2 1 2 2 1 1 1 2 1 ...\n"
     ]
    }
   ],
   "source": [
    "str(Hitters)"
   ]
  },
  {
   "cell_type": "markdown",
   "id": "519e16db",
   "metadata": {},
   "source": [
    "(a) Remove the observations for whom the salary information is\n",
    "unknown, and then log-transform the salaries."
   ]
  },
  {
   "cell_type": "code",
   "execution_count": 68,
   "id": "348ea667",
   "metadata": {},
   "outputs": [
    {
     "data": {
      "text/html": [
       "59"
      ],
      "text/latex": [
       "59"
      ],
      "text/markdown": [
       "59"
      ],
      "text/plain": [
       "[1] 59"
      ]
     },
     "metadata": {},
     "output_type": "display_data"
    }
   ],
   "source": [
    "sum(is.na(Hitters$Salary))"
   ]
  },
  {
   "cell_type": "code",
   "execution_count": 70,
   "id": "7060e62d",
   "metadata": {},
   "outputs": [],
   "source": [
    "Hitters_null=is.na(Hitters[,\"Salary\"])\n",
    "Hitters=Hitters[!Hitters_null,]\n",
    "Hitters[,\"Salary\"]=log(Hitters[,\"Salary\"])"
   ]
  },
  {
   "cell_type": "code",
   "execution_count": 71,
   "id": "3a3d6934",
   "metadata": {},
   "outputs": [
    {
     "data": {
      "text/plain": [
       "     AtBat            Hits           HmRun            Runs       \n",
       " Min.   : 19.0   Min.   :  1.0   Min.   : 0.00   Min.   :  0.00  \n",
       " 1st Qu.:282.5   1st Qu.: 71.5   1st Qu.: 5.00   1st Qu.: 33.50  \n",
       " Median :413.0   Median :103.0   Median : 9.00   Median : 52.00  \n",
       " Mean   :403.6   Mean   :107.8   Mean   :11.62   Mean   : 54.75  \n",
       " 3rd Qu.:526.0   3rd Qu.:141.5   3rd Qu.:18.00   3rd Qu.: 73.00  \n",
       " Max.   :687.0   Max.   :238.0   Max.   :40.00   Max.   :130.00  \n",
       "      RBI             Walks            Years            CAtBat       \n",
       " Min.   :  0.00   Min.   :  0.00   Min.   : 1.000   Min.   :   19.0  \n",
       " 1st Qu.: 30.00   1st Qu.: 23.00   1st Qu.: 4.000   1st Qu.:  842.5  \n",
       " Median : 47.00   Median : 37.00   Median : 6.000   Median : 1931.0  \n",
       " Mean   : 51.49   Mean   : 41.11   Mean   : 7.312   Mean   : 2657.5  \n",
       " 3rd Qu.: 71.00   3rd Qu.: 57.00   3rd Qu.:10.000   3rd Qu.: 3890.5  \n",
       " Max.   :121.00   Max.   :105.00   Max.   :24.000   Max.   :14053.0  \n",
       "     CHits            CHmRun           CRuns             CRBI       \n",
       " Min.   :   4.0   Min.   :  0.00   Min.   :   2.0   Min.   :   3.0  \n",
       " 1st Qu.: 212.0   1st Qu.: 15.00   1st Qu.: 105.5   1st Qu.:  95.0  \n",
       " Median : 516.0   Median : 40.00   Median : 250.0   Median : 230.0  \n",
       " Mean   : 722.2   Mean   : 69.24   Mean   : 361.2   Mean   : 330.4  \n",
       " 3rd Qu.:1054.0   3rd Qu.: 92.50   3rd Qu.: 497.5   3rd Qu.: 424.5  \n",
       " Max.   :4256.0   Max.   :548.00   Max.   :2165.0   Max.   :1659.0  \n",
       "     CWalks       League  Division    PutOuts          Assists     \n",
       " Min.   :   1.0   A:139   E:129    Min.   :   0.0   Min.   :  0.0  \n",
       " 1st Qu.:  71.0   N:124   W:134    1st Qu.: 113.5   1st Qu.:  8.0  \n",
       " Median : 174.0                    Median : 224.0   Median : 45.0  \n",
       " Mean   : 260.3                    Mean   : 290.7   Mean   :118.8  \n",
       " 3rd Qu.: 328.5                    3rd Qu.: 322.5   3rd Qu.:192.0  \n",
       " Max.   :1566.0                    Max.   :1377.0   Max.   :492.0  \n",
       "     Errors           Salary      NewLeague\n",
       " Min.   : 0.000   Min.   :4.212   A:141    \n",
       " 1st Qu.: 3.000   1st Qu.:5.247   N:122    \n",
       " Median : 7.000   Median :6.052            \n",
       " Mean   : 8.593   Mean   :5.927            \n",
       " 3rd Qu.:13.000   3rd Qu.:6.620            \n",
       " Max.   :32.000   Max.   :7.808            "
      ]
     },
     "metadata": {},
     "output_type": "display_data"
    }
   ],
   "source": [
    "summary(Hitters)"
   ]
  }
 ],
 "metadata": {
  "kernelspec": {
   "display_name": "R",
   "language": "R",
   "name": "ir"
  },
  "language_info": {
   "codemirror_mode": "r",
   "file_extension": ".r",
   "mimetype": "text/x-r-source",
   "name": "R",
   "pygments_lexer": "r",
   "version": "4.0.5"
  }
 },
 "nbformat": 4,
 "nbformat_minor": 5
}
